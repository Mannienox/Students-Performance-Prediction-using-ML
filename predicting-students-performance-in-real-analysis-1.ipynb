{
 "cells": [
  {
   "cell_type": "markdown",
   "id": "aa3f6add-c7cb-4d0d-aa62-f8c7a93cd265",
   "metadata": {},
   "source": [
    "# **PREDICTING STUDENT'S GRADE IN REAL ANALYSIS 1**"
   ]
  },
  {
   "cell_type": "markdown",
   "id": "a332ae0a-db90-42cd-8020-7fd5e4d8f350",
   "metadata": {},
   "source": [
    "## *Exploratory Data Analysis*"
   ]
  },
  {
   "cell_type": "code",
   "execution_count": 1,
   "id": "f33afc7b-e6db-4740-af1d-a707d9476ead",
   "metadata": {
    "executionCancelledAt": null,
    "executionTime": 2671,
    "lastExecutedAt": 1730134285943,
    "lastExecutedByKernel": "be95f1d3-d842-420c-bed9-df5fafd1f3bd",
    "lastScheduledRunId": null,
    "lastSuccessfullyExecutedCode": "# Importing primary dependencies\nimport numpy as np\nimport pandas as pd\nimport matplotlib.pyplot as plt\nimport seaborn as sns\n\nplt.style.use('ggplot')\n# Importing Plotly and setting it as the default plotting library\nimport plotly.express as px\n# Setting Plotly as the default plotting library for pandas\npd.options.plotting.backend = \"plotly\""
   },
   "outputs": [],
   "source": [
    "# Importing primary dependencies\n",
    "\n",
    "import numpy as np\n",
    "import pandas as pd\n",
    "import matplotlib.pyplot as plt\n",
    "import seaborn as sns\n",
    "\n",
    "plt.style.use('ggplot')\n",
    "\n",
    "# Importing Plotly and setting it as the default plotting library\n",
    "import plotly.express as px\n",
    "\n",
    "# Setting Plotly as the default plotting library for pandas\n",
    "pd.options.plotting.backend = \"plotly\""
   ]
  },
  {
   "cell_type": "code",
   "execution_count": 2,
   "id": "a9d97764-178a-4716-8a0c-5d208e032154",
   "metadata": {},
   "outputs": [],
   "source": [
    "df = pd.read_csv('Real_Analysis_1.csv', parse_dates = ['dob'])"
   ]
  },
  {
   "cell_type": "code",
   "execution_count": 3,
   "id": "191fa1f1-fdac-482b-9ce8-f041a9d0b4b5",
   "metadata": {
    "executionCancelledAt": null,
    "executionTime": null,
    "lastExecutedAt": null,
    "lastExecutedByKernel": null,
    "lastScheduledRunId": null,
    "lastSuccessfullyExecutedCode": null,
    "outputsMetadata": {
     "0": {
      "height": 268,
      "type": "dataFrame"
     }
    }
   },
   "outputs": [
    {
     "data": {
      "text/html": [
       "<div>\n",
       "<style scoped>\n",
       "    .dataframe tbody tr th:only-of-type {\n",
       "        vertical-align: middle;\n",
       "    }\n",
       "\n",
       "    .dataframe tbody tr th {\n",
       "        vertical-align: top;\n",
       "    }\n",
       "\n",
       "    .dataframe thead th {\n",
       "        text-align: right;\n",
       "    }\n",
       "</style>\n",
       "<table border=\"1\" class=\"dataframe\">\n",
       "  <thead>\n",
       "    <tr style=\"text-align: right;\">\n",
       "      <th></th>\n",
       "      <th>Timestamp</th>\n",
       "      <th>matricNo</th>\n",
       "      <th>course</th>\n",
       "      <th>gender</th>\n",
       "      <th>dob</th>\n",
       "      <th>dist</th>\n",
       "      <th>F_edu</th>\n",
       "      <th>M_edu</th>\n",
       "      <th>job</th>\n",
       "      <th>internet</th>\n",
       "      <th>...</th>\n",
       "      <th>higher</th>\n",
       "      <th>to_further</th>\n",
       "      <th>orientation</th>\n",
       "      <th>lecturer</th>\n",
       "      <th>understood_RA</th>\n",
       "      <th>notes</th>\n",
       "      <th>tutorials</th>\n",
       "      <th>assignments</th>\n",
       "      <th>prerequisite</th>\n",
       "      <th>grade</th>\n",
       "    </tr>\n",
       "  </thead>\n",
       "  <tbody>\n",
       "    <tr>\n",
       "      <th>0</th>\n",
       "      <td>9/5/2024 0:50:43</td>\n",
       "      <td>kasu/19/mth/1071</td>\n",
       "      <td>Mathematics</td>\n",
       "      <td>Male</td>\n",
       "      <td>2003-11-03</td>\n",
       "      <td>Far from school (more than 1 Km)</td>\n",
       "      <td>Tertiary</td>\n",
       "      <td>Tertiary</td>\n",
       "      <td>No</td>\n",
       "      <td>Yes</td>\n",
       "      <td>...</td>\n",
       "      <td>No</td>\n",
       "      <td>No</td>\n",
       "      <td>Yes</td>\n",
       "      <td>Dr. Lawal Haruna Yusuf</td>\n",
       "      <td>Partially (I understood some parts and crammed...</td>\n",
       "      <td>Yes</td>\n",
       "      <td>7</td>\n",
       "      <td>Yes</td>\n",
       "      <td>C</td>\n",
       "      <td>F</td>\n",
       "    </tr>\n",
       "    <tr>\n",
       "      <th>1</th>\n",
       "      <td>9/5/2024 0:52:14</td>\n",
       "      <td>Kasu/19/Mth/1116</td>\n",
       "      <td>Mathematics</td>\n",
       "      <td>Male</td>\n",
       "      <td>2000-11-20</td>\n",
       "      <td>Far from school (more than 1 Km)</td>\n",
       "      <td>Tertiary</td>\n",
       "      <td>Tertiary</td>\n",
       "      <td>No</td>\n",
       "      <td>No</td>\n",
       "      <td>...</td>\n",
       "      <td>No</td>\n",
       "      <td>Yes</td>\n",
       "      <td>Yes</td>\n",
       "      <td>Dr. Lawal Haruna Yusuf</td>\n",
       "      <td>Partially (I understood some parts and crammed...</td>\n",
       "      <td>Yes</td>\n",
       "      <td>5</td>\n",
       "      <td>Yes</td>\n",
       "      <td>D</td>\n",
       "      <td>F</td>\n",
       "    </tr>\n",
       "    <tr>\n",
       "      <th>2</th>\n",
       "      <td>9/5/2024 0:54:16</td>\n",
       "      <td>Kasu/19/mth/1083</td>\n",
       "      <td>Mathematics</td>\n",
       "      <td>Male</td>\n",
       "      <td>2024-09-05</td>\n",
       "      <td>Far from school (more than 1 Km)</td>\n",
       "      <td>Tertiary</td>\n",
       "      <td>Secondary School</td>\n",
       "      <td>Yes</td>\n",
       "      <td>Yes</td>\n",
       "      <td>...</td>\n",
       "      <td>No</td>\n",
       "      <td>Yes</td>\n",
       "      <td>Yes</td>\n",
       "      <td>Dr. Lawal Haruna Yusuf</td>\n",
       "      <td>No Understanding (I crammed everything)</td>\n",
       "      <td>Yes</td>\n",
       "      <td>8</td>\n",
       "      <td>Yes</td>\n",
       "      <td>D</td>\n",
       "      <td>F</td>\n",
       "    </tr>\n",
       "    <tr>\n",
       "      <th>3</th>\n",
       "      <td>9/5/2024 0:54:41</td>\n",
       "      <td>KASU/19/MTH/1042</td>\n",
       "      <td>Mathematics</td>\n",
       "      <td>Male</td>\n",
       "      <td>1998-10-06</td>\n",
       "      <td>Far from school (more than 1 Km)</td>\n",
       "      <td>Tertiary</td>\n",
       "      <td>Tertiary</td>\n",
       "      <td>No</td>\n",
       "      <td>Yes</td>\n",
       "      <td>...</td>\n",
       "      <td>Yes</td>\n",
       "      <td>Yes</td>\n",
       "      <td>Yes</td>\n",
       "      <td>Dr. Lawal Haruna Yusuf</td>\n",
       "      <td>Totally (I understood everything or almost eve...</td>\n",
       "      <td>Yes</td>\n",
       "      <td>10</td>\n",
       "      <td>Yes</td>\n",
       "      <td>A</td>\n",
       "      <td>A</td>\n",
       "    </tr>\n",
       "    <tr>\n",
       "      <th>4</th>\n",
       "      <td>9/5/2024 0:55:55</td>\n",
       "      <td>Kasu/19/mth/1117</td>\n",
       "      <td>Mathematics</td>\n",
       "      <td>Male</td>\n",
       "      <td>1999-02-11</td>\n",
       "      <td>Far from school (more than 1 Km)</td>\n",
       "      <td>Secondary School</td>\n",
       "      <td>Secondary School</td>\n",
       "      <td>Yes</td>\n",
       "      <td>Yes</td>\n",
       "      <td>...</td>\n",
       "      <td>Yes</td>\n",
       "      <td>Yes</td>\n",
       "      <td>Yes</td>\n",
       "      <td>Dr. Lawal Haruna Yusuf</td>\n",
       "      <td>Partially (I understood some parts and crammed...</td>\n",
       "      <td>Yes</td>\n",
       "      <td>5</td>\n",
       "      <td>Yes</td>\n",
       "      <td>C</td>\n",
       "      <td>C</td>\n",
       "    </tr>\n",
       "  </tbody>\n",
       "</table>\n",
       "<p>5 rows × 35 columns</p>\n",
       "</div>"
      ],
      "text/plain": [
       "          Timestamp          matricNo       course gender        dob  \\\n",
       "0  9/5/2024 0:50:43  kasu/19/mth/1071  Mathematics   Male 2003-11-03   \n",
       "1  9/5/2024 0:52:14  Kasu/19/Mth/1116  Mathematics   Male 2000-11-20   \n",
       "2  9/5/2024 0:54:16  Kasu/19/mth/1083  Mathematics   Male 2024-09-05   \n",
       "3  9/5/2024 0:54:41  KASU/19/MTH/1042  Mathematics   Male 1998-10-06   \n",
       "4  9/5/2024 0:55:55  Kasu/19/mth/1117  Mathematics   Male 1999-02-11   \n",
       "\n",
       "                              dist              F_edu             M_edu  job  \\\n",
       "0  Far from school (more than 1 Km)          Tertiary          Tertiary   No   \n",
       "1  Far from school (more than 1 Km)          Tertiary          Tertiary   No   \n",
       "2  Far from school (more than 1 Km)          Tertiary  Secondary School  Yes   \n",
       "3  Far from school (more than 1 Km)          Tertiary          Tertiary   No   \n",
       "4  Far from school (more than 1 Km)  Secondary School  Secondary School  Yes   \n",
       "\n",
       "  internet  ... higher to_further orientation                lecturer  \\\n",
       "0      Yes  ...     No         No         Yes  Dr. Lawal Haruna Yusuf   \n",
       "1       No  ...     No        Yes         Yes  Dr. Lawal Haruna Yusuf   \n",
       "2      Yes  ...     No        Yes         Yes  Dr. Lawal Haruna Yusuf   \n",
       "3      Yes  ...    Yes        Yes         Yes  Dr. Lawal Haruna Yusuf   \n",
       "4      Yes  ...    Yes        Yes         Yes  Dr. Lawal Haruna Yusuf   \n",
       "\n",
       "                                       understood_RA notes  tutorials  \\\n",
       "0  Partially (I understood some parts and crammed...   Yes          7   \n",
       "1  Partially (I understood some parts and crammed...   Yes          5   \n",
       "2            No Understanding (I crammed everything)   Yes          8   \n",
       "3  Totally (I understood everything or almost eve...   Yes         10   \n",
       "4  Partially (I understood some parts and crammed...   Yes          5   \n",
       "\n",
       "  assignments prerequisite grade  \n",
       "0         Yes            C     F  \n",
       "1         Yes            D     F  \n",
       "2         Yes            D     F  \n",
       "3         Yes            A     A  \n",
       "4         Yes            C     C  \n",
       "\n",
       "[5 rows x 35 columns]"
      ]
     },
     "execution_count": 3,
     "metadata": {},
     "output_type": "execute_result"
    }
   ],
   "source": [
    "df.head()"
   ]
  },
  {
   "cell_type": "code",
   "execution_count": 4,
   "id": "6641222d-1bf0-4aaa-bec6-c1728e0c616f",
   "metadata": {
    "executionCancelledAt": null,
    "executionTime": 59,
    "lastExecutedAt": 1730134290475,
    "lastExecutedByKernel": "be95f1d3-d842-420c-bed9-df5fafd1f3bd",
    "lastScheduledRunId": null,
    "lastSuccessfullyExecutedCode": "df.info()",
    "outputsMetadata": {
     "0": {
      "height": 616,
      "type": "stream"
     }
    }
   },
   "outputs": [
    {
     "name": "stdout",
     "output_type": "stream",
     "text": [
      "<class 'pandas.core.frame.DataFrame'>\n",
      "RangeIndex: 134 entries, 0 to 133\n",
      "Data columns (total 35 columns):\n",
      " #   Column                 Non-Null Count  Dtype         \n",
      "---  ------                 --------------  -----         \n",
      " 0   Timestamp              134 non-null    object        \n",
      " 1   matricNo               134 non-null    object        \n",
      " 2   course                 134 non-null    object        \n",
      " 3   gender                 134 non-null    object        \n",
      " 4   dob                    134 non-null    datetime64[ns]\n",
      " 5   dist                   134 non-null    object        \n",
      " 6   F_edu                  134 non-null    object        \n",
      " 7   M_edu                  134 non-null    object        \n",
      " 8   job                    134 non-null    object        \n",
      " 9   internet               134 non-null    object        \n",
      " 10  romantic_relationship  134 non-null    object        \n",
      " 11  go_out                 134 non-null    object        \n",
      " 12  alcohol                134 non-null    object        \n",
      " 13  attendance             134 non-null    object        \n",
      " 14  punctuality            134 non-null    object        \n",
      " 15  study_hours            134 non-null    object        \n",
      " 16  carryovers             134 non-null    int64         \n",
      " 17  fam_support            134 non-null    object        \n",
      " 18  applied                134 non-null    object        \n",
      " 19  like_course            134 non-null    object        \n",
      " 20  scared_RA              134 non-null    object        \n",
      " 21  like_sec_math          134 non-null    object        \n",
      " 22  like_RA                134 non-null    object        \n",
      " 23  highschool_math_grade  134 non-null    object        \n",
      " 24  further_math           134 non-null    object        \n",
      " 25  higher                 134 non-null    object        \n",
      " 26  to_further             134 non-null    object        \n",
      " 27  orientation            134 non-null    object        \n",
      " 28  lecturer               134 non-null    object        \n",
      " 29  understood_RA          134 non-null    object        \n",
      " 30  notes                  134 non-null    object        \n",
      " 31  tutorials              134 non-null    int64         \n",
      " 32  assignments            134 non-null    object        \n",
      " 33  prerequisite           134 non-null    object        \n",
      " 34  grade                  134 non-null    object        \n",
      "dtypes: datetime64[ns](1), int64(2), object(32)\n",
      "memory usage: 36.8+ KB\n"
     ]
    }
   ],
   "source": [
    "df.info()"
   ]
  },
  {
   "cell_type": "markdown",
   "id": "93d71956-da21-4e20-9203-67b7730912de",
   "metadata": {},
   "source": [
    "### Checking for outliers in the age"
   ]
  },
  {
   "cell_type": "code",
   "execution_count": 5,
   "id": "951b078e-75de-4d24-9caa-d5076fcb2574",
   "metadata": {},
   "outputs": [
    {
     "data": {
      "text/html": [
       "<div>\n",
       "<style scoped>\n",
       "    .dataframe tbody tr th:only-of-type {\n",
       "        vertical-align: middle;\n",
       "    }\n",
       "\n",
       "    .dataframe tbody tr th {\n",
       "        vertical-align: top;\n",
       "    }\n",
       "\n",
       "    .dataframe thead th {\n",
       "        text-align: right;\n",
       "    }\n",
       "</style>\n",
       "<table border=\"1\" class=\"dataframe\">\n",
       "  <thead>\n",
       "    <tr style=\"text-align: right;\">\n",
       "      <th></th>\n",
       "      <th>Timestamp</th>\n",
       "      <th>matricNo</th>\n",
       "      <th>course</th>\n",
       "      <th>gender</th>\n",
       "      <th>dob</th>\n",
       "      <th>dist</th>\n",
       "      <th>F_edu</th>\n",
       "      <th>M_edu</th>\n",
       "      <th>job</th>\n",
       "      <th>internet</th>\n",
       "      <th>...</th>\n",
       "      <th>to_further</th>\n",
       "      <th>orientation</th>\n",
       "      <th>lecturer</th>\n",
       "      <th>understood_RA</th>\n",
       "      <th>notes</th>\n",
       "      <th>tutorials</th>\n",
       "      <th>assignments</th>\n",
       "      <th>prerequisite</th>\n",
       "      <th>grade</th>\n",
       "      <th>age</th>\n",
       "    </tr>\n",
       "  </thead>\n",
       "  <tbody>\n",
       "    <tr>\n",
       "      <th>2</th>\n",
       "      <td>9/5/2024 0:54:16</td>\n",
       "      <td>Kasu/19/mth/1083</td>\n",
       "      <td>Mathematics</td>\n",
       "      <td>Male</td>\n",
       "      <td>2024-09-05</td>\n",
       "      <td>Far from school (more than 1 Km)</td>\n",
       "      <td>Tertiary</td>\n",
       "      <td>Secondary School</td>\n",
       "      <td>Yes</td>\n",
       "      <td>Yes</td>\n",
       "      <td>...</td>\n",
       "      <td>Yes</td>\n",
       "      <td>Yes</td>\n",
       "      <td>Dr. Lawal Haruna Yusuf</td>\n",
       "      <td>No Understanding (I crammed everything)</td>\n",
       "      <td>Yes</td>\n",
       "      <td>8</td>\n",
       "      <td>Yes</td>\n",
       "      <td>D</td>\n",
       "      <td>F</td>\n",
       "      <td>0</td>\n",
       "    </tr>\n",
       "    <tr>\n",
       "      <th>72</th>\n",
       "      <td>9/7/2024 13:53:22</td>\n",
       "      <td>Kasu/22/mth/2006</td>\n",
       "      <td>Mathematics</td>\n",
       "      <td>Female</td>\n",
       "      <td>1982-06-05</td>\n",
       "      <td>Far from school (more than 1 Km)</td>\n",
       "      <td>Secondary School</td>\n",
       "      <td>Secondary School</td>\n",
       "      <td>No</td>\n",
       "      <td>Yes</td>\n",
       "      <td>...</td>\n",
       "      <td>Yes</td>\n",
       "      <td>Yes</td>\n",
       "      <td>Dr. Lawal Haruna Yusuf</td>\n",
       "      <td>Partially (I understood some parts and crammed...</td>\n",
       "      <td>Yes</td>\n",
       "      <td>10</td>\n",
       "      <td>Yes</td>\n",
       "      <td>C</td>\n",
       "      <td>C</td>\n",
       "      <td>42</td>\n",
       "    </tr>\n",
       "    <tr>\n",
       "      <th>84</th>\n",
       "      <td>9/8/2024 23:57:38</td>\n",
       "      <td>Kasu/19/MATH/1041</td>\n",
       "      <td>Mathematics</td>\n",
       "      <td>Female</td>\n",
       "      <td>1920-08-06</td>\n",
       "      <td>Far from school (more than 1 Km)</td>\n",
       "      <td>Tertiary</td>\n",
       "      <td>Tertiary</td>\n",
       "      <td>No</td>\n",
       "      <td>Yes</td>\n",
       "      <td>...</td>\n",
       "      <td>Yes</td>\n",
       "      <td>Yes</td>\n",
       "      <td>Dr. Lawal Haruna Yusuf</td>\n",
       "      <td>Partially (I understood some parts and crammed...</td>\n",
       "      <td>Yes</td>\n",
       "      <td>9</td>\n",
       "      <td>No</td>\n",
       "      <td>A</td>\n",
       "      <td>C</td>\n",
       "      <td>104</td>\n",
       "    </tr>\n",
       "  </tbody>\n",
       "</table>\n",
       "<p>3 rows × 36 columns</p>\n",
       "</div>"
      ],
      "text/plain": [
       "            Timestamp           matricNo       course  gender        dob  \\\n",
       "2    9/5/2024 0:54:16   Kasu/19/mth/1083  Mathematics    Male 2024-09-05   \n",
       "72  9/7/2024 13:53:22   Kasu/22/mth/2006  Mathematics  Female 1982-06-05   \n",
       "84  9/8/2024 23:57:38  Kasu/19/MATH/1041  Mathematics  Female 1920-08-06   \n",
       "\n",
       "                               dist              F_edu             M_edu  job  \\\n",
       "2   Far from school (more than 1 Km)          Tertiary  Secondary School  Yes   \n",
       "72  Far from school (more than 1 Km)  Secondary School  Secondary School   No   \n",
       "84  Far from school (more than 1 Km)          Tertiary          Tertiary   No   \n",
       "\n",
       "   internet  ... to_further orientation                lecturer  \\\n",
       "2       Yes  ...        Yes         Yes  Dr. Lawal Haruna Yusuf   \n",
       "72      Yes  ...        Yes         Yes  Dr. Lawal Haruna Yusuf   \n",
       "84      Yes  ...        Yes         Yes  Dr. Lawal Haruna Yusuf   \n",
       "\n",
       "                                        understood_RA notes tutorials  \\\n",
       "2             No Understanding (I crammed everything)   Yes         8   \n",
       "72  Partially (I understood some parts and crammed...   Yes        10   \n",
       "84  Partially (I understood some parts and crammed...   Yes         9   \n",
       "\n",
       "    assignments prerequisite grade  age  \n",
       "2           Yes            D     F    0  \n",
       "72          Yes            C     C   42  \n",
       "84           No            A     C  104  \n",
       "\n",
       "[3 rows x 36 columns]"
      ]
     },
     "execution_count": 5,
     "metadata": {},
     "output_type": "execute_result"
    }
   ],
   "source": [
    "from datetime import datetime as dt\n",
    "\n",
    "#Creating the Age column\n",
    "df['age'] = (dt.today() - df.dob).dt.days//365\n",
    "\n",
    "# Removing outliers\n",
    "iqr = df['age'].quantile(.75) - df['age'].quantile(.25)\n",
    "lower = df['age'].quantile(.25) - (3/2)*iqr\n",
    "upper = df['age'].quantile(.75) + (3/2)*iqr\n",
    "df[(df['age'] < lower) | (df['age'] > upper)]"
   ]
  },
  {
   "cell_type": "code",
   "execution_count": 6,
   "id": "d37f9929-991b-4768-8cbd-5d551dd4f0c7",
   "metadata": {},
   "outputs": [],
   "source": [
    "#Dropping rows age outliers incuding 42. Based on domain knowledge, 42 is a normal outlier but outliers will affect our model especially now that the dataset is having few entries\n",
    "df = df[~((df['age'] < lower) | (df['age'] > upper))]"
   ]
  },
  {
   "cell_type": "code",
   "execution_count": 7,
   "id": "55303c92-cfd3-4b7c-82c5-0a792f29c03f",
   "metadata": {},
   "outputs": [
    {
     "data": {
      "text/html": [
       "<div>\n",
       "<style scoped>\n",
       "    .dataframe tbody tr th:only-of-type {\n",
       "        vertical-align: middle;\n",
       "    }\n",
       "\n",
       "    .dataframe tbody tr th {\n",
       "        vertical-align: top;\n",
       "    }\n",
       "\n",
       "    .dataframe thead th {\n",
       "        text-align: right;\n",
       "    }\n",
       "</style>\n",
       "<table border=\"1\" class=\"dataframe\">\n",
       "  <thead>\n",
       "    <tr style=\"text-align: right;\">\n",
       "      <th></th>\n",
       "      <th>carryovers</th>\n",
       "      <th>tutorials</th>\n",
       "      <th>age</th>\n",
       "    </tr>\n",
       "  </thead>\n",
       "  <tbody>\n",
       "    <tr>\n",
       "      <th>count</th>\n",
       "      <td>131.000000</td>\n",
       "      <td>131.000000</td>\n",
       "      <td>131.000000</td>\n",
       "    </tr>\n",
       "    <tr>\n",
       "      <th>mean</th>\n",
       "      <td>0.618321</td>\n",
       "      <td>6.229008</td>\n",
       "      <td>23.297710</td>\n",
       "    </tr>\n",
       "    <tr>\n",
       "      <th>std</th>\n",
       "      <td>1.070284</td>\n",
       "      <td>2.794403</td>\n",
       "      <td>3.278589</td>\n",
       "    </tr>\n",
       "    <tr>\n",
       "      <th>min</th>\n",
       "      <td>0.000000</td>\n",
       "      <td>0.000000</td>\n",
       "      <td>18.000000</td>\n",
       "    </tr>\n",
       "    <tr>\n",
       "      <th>25%</th>\n",
       "      <td>0.000000</td>\n",
       "      <td>5.000000</td>\n",
       "      <td>20.500000</td>\n",
       "    </tr>\n",
       "    <tr>\n",
       "      <th>50%</th>\n",
       "      <td>0.000000</td>\n",
       "      <td>7.000000</td>\n",
       "      <td>23.000000</td>\n",
       "    </tr>\n",
       "    <tr>\n",
       "      <th>75%</th>\n",
       "      <td>1.000000</td>\n",
       "      <td>8.000000</td>\n",
       "      <td>26.000000</td>\n",
       "    </tr>\n",
       "    <tr>\n",
       "      <th>max</th>\n",
       "      <td>5.000000</td>\n",
       "      <td>10.000000</td>\n",
       "      <td>34.000000</td>\n",
       "    </tr>\n",
       "  </tbody>\n",
       "</table>\n",
       "</div>"
      ],
      "text/plain": [
       "       carryovers   tutorials         age\n",
       "count  131.000000  131.000000  131.000000\n",
       "mean     0.618321    6.229008   23.297710\n",
       "std      1.070284    2.794403    3.278589\n",
       "min      0.000000    0.000000   18.000000\n",
       "25%      0.000000    5.000000   20.500000\n",
       "50%      0.000000    7.000000   23.000000\n",
       "75%      1.000000    8.000000   26.000000\n",
       "max      5.000000   10.000000   34.000000"
      ]
     },
     "execution_count": 7,
     "metadata": {},
     "output_type": "execute_result"
    }
   ],
   "source": [
    "df.drop('dob', axis = 1).describe()"
   ]
  },
  {
   "cell_type": "code",
   "execution_count": 8,
   "id": "4d78f83c-c17c-41e0-86d4-b32a1813402b",
   "metadata": {
    "executionCancelledAt": null,
    "executionTime": 51,
    "lastExecutedAt": 1730136459114,
    "lastExecutedByKernel": "be95f1d3-d842-420c-bed9-df5fafd1f3bd",
    "lastScheduledRunId": null,
    "lastSuccessfullyExecutedCode": "from datetime import datetime as dt\n\ndf['age'] = (dt.today() - df.dob).dt.days//365",
    "outputsMetadata": {
     "0": {
      "height": 543,
      "type": "dataFrame"
     }
    }
   },
   "outputs": [
    {
     "data": {
      "image/png": "[encoded data removed]",
      "text/plain": [
       "<Figure size 640x480 with 1 Axes>"
      ]
     },
     "metadata": {},
     "output_type": "display_data"
    }
   ],
   "source": [
    "# Histogram\n",
    "sns.histplot(df, x = 'age', hue = 'grade')\n",
    "plt.ylabel('')\n",
    "plt.xlabel('Age')\n",
    "plt.title('Distribution of Grade by Age')\n",
    "plt.show()"
   ]
  },
  {
   "cell_type": "code",
   "execution_count": 9,
   "id": "212361d9-b9e7-4848-811c-885559aafd1e",
   "metadata": {
    "executionCancelledAt": null,
    "executionTime": 151,
    "lastExecutedAt": 1730134290673,
    "lastExecutedByKernel": "be95f1d3-d842-420c-bed9-df5fafd1f3bd",
    "lastScheduledRunId": null,
    "lastSuccessfullyExecutedCode": "px.bar(df.sort_values(['grade']), x = 'grade', color = 'gender')",
    "outputsMetadata": {
     "0": {
      "height": 467,
      "type": "plotly"
     }
    }
   },
   "outputs": [
    {
     "data": {
      "image/png": "[encoded data removed]",
      "text/plain": [
       "<Figure size 640x480 with 1 Axes>"
      ]
     },
     "metadata": {},
     "output_type": "display_data"
    }
   ],
   "source": [
    "sns.countplot(data = df.sort_values(['grade']), x = 'grade', hue = 'gender')\n",
    "plt.xlabel('Grade')\n",
    "plt.ylabel('Frequency')\n",
    "plt.title('Distribution of Grade by Gender')\n",
    "plt.show()"
   ]
  },
  {
   "cell_type": "code",
   "execution_count": 10,
   "id": "11973ff5-ee76-4e62-84f7-0facf810e2e9",
   "metadata": {
    "executionCancelledAt": null,
    "executionTime": 112,
    "lastExecutedAt": 1730134290785,
    "lastExecutedByKernel": "be95f1d3-d842-420c-bed9-df5fafd1f3bd",
    "lastScheduledRunId": null,
    "lastSuccessfullyExecutedCode": "px.histogram(df, x = 'tutorials', color = 'grade')",
    "outputsMetadata": {
     "0": {
      "height": 467,
      "type": "plotly"
     }
    }
   },
   "outputs": [
    {
     "data": {
      "image/png": "[encoded data removed]",
      "text/plain": [
       "<Figure size 640x480 with 1 Axes>"
      ]
     },
     "metadata": {},
     "output_type": "display_data"
    }
   ],
   "source": [
    "sns.histplot(df, x = 'tutorials', hue = 'grade', bins = 10)\n",
    "plt.xlabel('Tutorials attended')\n",
    "plt.title('Distribution of Grade by Attendance to Tutorials')\n",
    "plt.show()"
   ]
  },
  {
   "cell_type": "code",
   "execution_count": 11,
   "id": "6f1e1f57-8da3-463f-89a5-be13fe91f688",
   "metadata": {
    "executionCancelledAt": null,
    "executionTime": null,
    "lastExecutedAt": null,
    "lastExecutedByKernel": null,
    "lastScheduledRunId": null,
    "lastSuccessfullyExecutedCode": null,
    "outputsMetadata": {
     "0": {
      "height": 467,
      "type": "plotly"
     }
    }
   },
   "outputs": [
    {
     "data": {
      "image/png": "[encoded data removed]",
      "text/plain": [
       "<Figure size 640x480 with 1 Axes>"
      ]
     },
     "metadata": {},
     "output_type": "display_data"
    }
   ],
   "source": [
    "sns.countplot(df.sort_values('grade'), x = 'grade', hue = 'higher')\n",
    "plt.xlabel('Grade')\n",
    "plt.ylabel('Frequency')\n",
    "plt.title('Distribution showing those who intend to further with Mathematics')\n",
    "plt.show()"
   ]
  },
  {
   "cell_type": "code",
   "execution_count": 12,
   "id": "16ebd3a6-3647-4733-8abf-0b5ea3297e69",
   "metadata": {
    "executionCancelledAt": null,
    "executionTime": 116,
    "lastExecutedAt": 1730134291141,
    "lastExecutedByKernel": "be95f1d3-d842-420c-bed9-df5fafd1f3bd",
    "lastScheduledRunId": null,
    "lastSuccessfullyExecutedCode": "fig = px.bar(df.sort_values(['grade']), x = 'grade', color = 'understood_RA')\nfig.update_layout(template='plotly_dark')\nfig",
    "outputsMetadata": {
     "0": {
      "height": 467,
      "type": "plotly"
     }
    }
   },
   "outputs": [
    {
     "data": {
      "image/png": "[encoded data removed]",
      "text/plain": [
       "<Figure size 1200x500 with 1 Axes>"
      ]
     },
     "metadata": {},
     "output_type": "display_data"
    }
   ],
   "source": [
    "plt.figure(figsize=(12,5))\n",
    "sns.countplot(df.sort_values(['grade']), x = 'grade', hue = 'understood_RA')\n",
    "plt.xlabel('Grade')\n",
    "plt.ylabel('Frequency')\n",
    "plt.title('Distribution of Grade by level of understanding Real Analysis  1')\n",
    "plt.show()"
   ]
  },
  {
   "cell_type": "code",
   "execution_count": 13,
   "id": "ed344d65-c25d-4260-b2a2-c92f16c56895",
   "metadata": {
    "executionCancelledAt": null,
    "executionTime": 208,
    "lastExecutedAt": 1730134291349,
    "lastExecutedByKernel": "be95f1d3-d842-420c-bed9-df5fafd1f3bd",
    "lastScheduledRunId": null,
    "lastSuccessfullyExecutedCode": "fig = px.bar(df.sort_values(['grade']), x = 'grade', color = 'prerequisite')\nfig.update_layout(template='plotly_dark')\nfig",
    "outputsMetadata": {
     "0": {
      "height": 467,
      "type": "plotly"
     }
    }
   },
   "outputs": [
    {
     "data": {
      "image/png": "[encoded data removed]",
      "text/plain": [
       "<Figure size 1200x500 with 1 Axes>"
      ]
     },
     "metadata": {},
     "output_type": "display_data"
    }
   ],
   "source": [
    "plt.figure(figsize=(12,5))\n",
    "sns.countplot(df.sort_values(['grade']), x = 'grade', hue = 'prerequisite')\n",
    "plt.xlabel('Grade')\n",
    "plt.ylabel('Frequency')\n",
    "plt.title('Distribution of Grade by level of understanding Real Analysis  1')\n",
    "plt.show()"
   ]
  },
  {
   "cell_type": "markdown",
   "id": "8206de7e-f7c2-4c9a-b9df-10370fe098c0",
   "metadata": {},
   "source": [
    "## **Pre-processing**\n",
    "\n",
    "### *Creating the 'pass' column from the grade column*"
   ]
  },
  {
   "cell_type": "code",
   "execution_count": 14,
   "id": "a8a73cc7-0c10-4504-bda8-7fcdd55e3f50",
   "metadata": {},
   "outputs": [],
   "source": [
    "df['pass'] = df['grade'].map({\n",
    "    'F': 0,\n",
    "    'E': 1,\n",
    "    'D': 1,\n",
    "    'C':1,\n",
    "    'B':1,\n",
    "    'A':1\n",
    "\n",
    "})"
   ]
  },
  {
   "cell_type": "markdown",
   "id": "f61f513b-0c29-4034-8c46-ca5c5566d6c0",
   "metadata": {},
   "source": [
    "### *Creating a modified dataset by dropping date of birth and grades columns* "
   ]
  },
  {
   "cell_type": "code",
   "execution_count": 15,
   "id": "2000db2c-54ce-42b0-8715-bea0ca72954a",
   "metadata": {
    "executionCancelledAt": null,
    "executionTime": 12,
    "lastExecutedAt": 1730134643260,
    "lastExecutedByKernel": "be95f1d3-d842-420c-bed9-df5fafd1f3bd",
    "lastScheduledRunId": null,
    "lastSuccessfullyExecutedCode": "dataset = df.iloc[:, 2:]",
    "outputsMetadata": {
     "0": {
      "height": 543,
      "type": "dataFrame"
     }
    }
   },
   "outputs": [],
   "source": [
    "dataset = df.drop(['dob', 'grade'], axis = 1)"
   ]
  },
  {
   "cell_type": "markdown",
   "id": "44c4aef1-2a50-498a-aeed-07d66623016b",
   "metadata": {},
   "source": [
    "## **Feature Selection**"
   ]
  },
  {
   "cell_type": "markdown",
   "id": "b25b9b18-1626-488c-aae0-ef021153d9cf",
   "metadata": {},
   "source": [
    "#### *Splitting dataset into numeric and categorical columns*"
   ]
  },
  {
   "cell_type": "code",
   "execution_count": 16,
   "id": "a153630f-7505-49d6-b433-4f03f0da9ce4",
   "metadata": {},
   "outputs": [],
   "source": [
    "numeric_cols = dataset.select_dtypes(include = np.number).columns\n",
    "cat_cols = dataset.drop(columns = numeric_cols).columns"
   ]
  },
  {
   "cell_type": "markdown",
   "id": "509e4c0c-54d6-499b-8970-f90ce089fdf7",
   "metadata": {},
   "source": [
    "#### *Selecting numerical columns using t-tests of independence*"
   ]
  },
  {
   "cell_type": "code",
   "execution_count": 17,
   "id": "52b99f5c-44d9-4bb2-b7f0-e9760dda7794",
   "metadata": {},
   "outputs": [],
   "source": [
    "from scipy.stats import ttest_ind\n",
    "\n",
    "def ttest (cols, dataset, y = 'pass'):\n",
    "    stats = []\n",
    "    p_values = []\n",
    "\n",
    "    for col in cols:\n",
    "        stat, p_value = ttest_ind(dataset[y], dataset[col])\n",
    "        stats.append(stat)\n",
    "        p_values.append(p_value)\n",
    "\n",
    "    return pd.DataFrame({\n",
    "        'Variable' : cols,\n",
    "        'Statistic' : stats,\n",
    "        'P_value' : np.round(p_values,10)\n",
    "    })\n",
    "\n",
    "\n",
    "ttest_results = ttest(numeric_cols, dataset)\n",
    "significant_num_cols = ttest_results[ttest_results['P_value'] <= 0.05]['Variable'].values"
   ]
  },
  {
   "cell_type": "code",
   "execution_count": 18,
   "id": "c3aea53d-cdf8-48ef-bffe-97b58333be02",
   "metadata": {},
   "outputs": [
    {
     "data": {
      "text/html": [
       "<div>\n",
       "<style scoped>\n",
       "    .dataframe tbody tr th:only-of-type {\n",
       "        vertical-align: middle;\n",
       "    }\n",
       "\n",
       "    .dataframe tbody tr th {\n",
       "        vertical-align: top;\n",
       "    }\n",
       "\n",
       "    .dataframe thead th {\n",
       "        text-align: right;\n",
       "    }\n",
       "</style>\n",
       "<table border=\"1\" class=\"dataframe\">\n",
       "  <thead>\n",
       "    <tr style=\"text-align: right;\">\n",
       "      <th></th>\n",
       "      <th>Variable</th>\n",
       "      <th>Statistic</th>\n",
       "      <th>P_value</th>\n",
       "    </tr>\n",
       "  </thead>\n",
       "  <tbody>\n",
       "    <tr>\n",
       "      <th>1</th>\n",
       "      <td>tutorials</td>\n",
       "      <td>-22.079857</td>\n",
       "      <td>0.000000</td>\n",
       "    </tr>\n",
       "    <tr>\n",
       "      <th>2</th>\n",
       "      <td>age</td>\n",
       "      <td>-77.986340</td>\n",
       "      <td>0.000000</td>\n",
       "    </tr>\n",
       "    <tr>\n",
       "      <th>0</th>\n",
       "      <td>carryovers</td>\n",
       "      <td>1.597453</td>\n",
       "      <td>0.111379</td>\n",
       "    </tr>\n",
       "    <tr>\n",
       "      <th>3</th>\n",
       "      <td>pass</td>\n",
       "      <td>0.000000</td>\n",
       "      <td>1.000000</td>\n",
       "    </tr>\n",
       "  </tbody>\n",
       "</table>\n",
       "</div>"
      ],
      "text/plain": [
       "     Variable  Statistic   P_value\n",
       "1   tutorials -22.079857  0.000000\n",
       "2         age -77.986340  0.000000\n",
       "0  carryovers   1.597453  0.111379\n",
       "3        pass   0.000000  1.000000"
      ]
     },
     "execution_count": 18,
     "metadata": {},
     "output_type": "execute_result"
    }
   ],
   "source": [
    "ttest_results.sort_values('P_value')"
   ]
  },
  {
   "cell_type": "markdown",
   "id": "f786f29f-5b0b-46cc-8a0b-b6cdc025a4aa",
   "metadata": {},
   "source": [
    "#### *Selecting Categorical columns using chi-square test of independence*"
   ]
  },
  {
   "cell_type": "code",
   "execution_count": 19,
   "id": "c4f3de8f-ad07-45eb-99fb-e2d23cb54563",
   "metadata": {},
   "outputs": [],
   "source": [
    "from scipy.stats import chi2_contingency\n",
    "\n",
    "def chi2 (cols, dataset, y = 'pass'):\n",
    "    stats = []\n",
    "    p_values = []\n",
    "    \n",
    "    for col in cols:\n",
    "        stat, p_value, _, _ = chi2_contingency(pd.crosstab(dataset[y], dataset[col]).values)\n",
    "        stats.append(stat)\n",
    "        p_values.append(p_value)\n",
    "    return pd.DataFrame({\n",
    "        'Variable' : cols,\n",
    "        'X - Statistic' : stats,\n",
    "        'P_value' : np.round(p_values,10)\n",
    "    })\n",
    "\n",
    "\n",
    "\n",
    "chi2_results = chi2(cat_cols, dataset)\n",
    "\n",
    "significant_cat_cols = chi2_results[chi2_results['P_value'] <= 0.05]['Variable'].values"
   ]
  },
  {
   "cell_type": "code",
   "execution_count": 20,
   "id": "e5fc0fe3-6ae6-46ed-9378-ca22e8680fad",
   "metadata": {},
   "outputs": [
    {
     "data": {
      "text/html": [
       "<div>\n",
       "<style scoped>\n",
       "    .dataframe tbody tr th:only-of-type {\n",
       "        vertical-align: middle;\n",
       "    }\n",
       "\n",
       "    .dataframe tbody tr th {\n",
       "        vertical-align: top;\n",
       "    }\n",
       "\n",
       "    .dataframe thead th {\n",
       "        text-align: right;\n",
       "    }\n",
       "</style>\n",
       "<table border=\"1\" class=\"dataframe\">\n",
       "  <thead>\n",
       "    <tr style=\"text-align: right;\">\n",
       "      <th></th>\n",
       "      <th>Variable</th>\n",
       "      <th>X - Statistic</th>\n",
       "      <th>P_value</th>\n",
       "    </tr>\n",
       "  </thead>\n",
       "  <tbody>\n",
       "    <tr>\n",
       "      <th>0</th>\n",
       "      <td>understood_RA</td>\n",
       "      <td>17.707120</td>\n",
       "      <td>0.000143</td>\n",
       "    </tr>\n",
       "    <tr>\n",
       "      <th>1</th>\n",
       "      <td>like_course</td>\n",
       "      <td>10.546725</td>\n",
       "      <td>0.001164</td>\n",
       "    </tr>\n",
       "    <tr>\n",
       "      <th>2</th>\n",
       "      <td>attendance</td>\n",
       "      <td>15.930485</td>\n",
       "      <td>0.003114</td>\n",
       "    </tr>\n",
       "    <tr>\n",
       "      <th>3</th>\n",
       "      <td>prerequisite</td>\n",
       "      <td>14.345579</td>\n",
       "      <td>0.006270</td>\n",
       "    </tr>\n",
       "    <tr>\n",
       "      <th>4</th>\n",
       "      <td>punctuality</td>\n",
       "      <td>11.456535</td>\n",
       "      <td>0.021885</td>\n",
       "    </tr>\n",
       "    <tr>\n",
       "      <th>5</th>\n",
       "      <td>fam_support</td>\n",
       "      <td>6.591844</td>\n",
       "      <td>0.037034</td>\n",
       "    </tr>\n",
       "    <tr>\n",
       "      <th>6</th>\n",
       "      <td>romantic_relationship</td>\n",
       "      <td>4.313454</td>\n",
       "      <td>0.037812</td>\n",
       "    </tr>\n",
       "    <tr>\n",
       "      <th>7</th>\n",
       "      <td>like_RA</td>\n",
       "      <td>4.080428</td>\n",
       "      <td>0.043383</td>\n",
       "    </tr>\n",
       "    <tr>\n",
       "      <th>8</th>\n",
       "      <td>highschool_math_grade</td>\n",
       "      <td>7.127077</td>\n",
       "      <td>0.067956</td>\n",
       "    </tr>\n",
       "    <tr>\n",
       "      <th>9</th>\n",
       "      <td>applied</td>\n",
       "      <td>1.714238</td>\n",
       "      <td>0.190436</td>\n",
       "    </tr>\n",
       "    <tr>\n",
       "      <th>10</th>\n",
       "      <td>study_hours</td>\n",
       "      <td>4.634109</td>\n",
       "      <td>0.200635</td>\n",
       "    </tr>\n",
       "    <tr>\n",
       "      <th>11</th>\n",
       "      <td>to_further</td>\n",
       "      <td>0.897312</td>\n",
       "      <td>0.343503</td>\n",
       "    </tr>\n",
       "    <tr>\n",
       "      <th>12</th>\n",
       "      <td>notes</td>\n",
       "      <td>0.841821</td>\n",
       "      <td>0.358877</td>\n",
       "    </tr>\n",
       "    <tr>\n",
       "      <th>13</th>\n",
       "      <td>Timestamp</td>\n",
       "      <td>131.000000</td>\n",
       "      <td>0.434337</td>\n",
       "    </tr>\n",
       "    <tr>\n",
       "      <th>14</th>\n",
       "      <td>matricNo</td>\n",
       "      <td>131.000000</td>\n",
       "      <td>0.458905</td>\n",
       "    </tr>\n",
       "    <tr>\n",
       "      <th>15</th>\n",
       "      <td>course</td>\n",
       "      <td>0.461787</td>\n",
       "      <td>0.496790</td>\n",
       "    </tr>\n",
       "    <tr>\n",
       "      <th>16</th>\n",
       "      <td>higher</td>\n",
       "      <td>0.438978</td>\n",
       "      <td>0.507616</td>\n",
       "    </tr>\n",
       "    <tr>\n",
       "      <th>17</th>\n",
       "      <td>further_math</td>\n",
       "      <td>0.417450</td>\n",
       "      <td>0.518212</td>\n",
       "    </tr>\n",
       "    <tr>\n",
       "      <th>18</th>\n",
       "      <td>job</td>\n",
       "      <td>0.314492</td>\n",
       "      <td>0.574937</td>\n",
       "    </tr>\n",
       "    <tr>\n",
       "      <th>19</th>\n",
       "      <td>go_out</td>\n",
       "      <td>2.207560</td>\n",
       "      <td>0.697645</td>\n",
       "    </tr>\n",
       "    <tr>\n",
       "      <th>20</th>\n",
       "      <td>lecturer</td>\n",
       "      <td>0.070739</td>\n",
       "      <td>0.790264</td>\n",
       "    </tr>\n",
       "    <tr>\n",
       "      <th>21</th>\n",
       "      <td>dist</td>\n",
       "      <td>0.303436</td>\n",
       "      <td>0.859230</td>\n",
       "    </tr>\n",
       "    <tr>\n",
       "      <th>22</th>\n",
       "      <td>orientation</td>\n",
       "      <td>0.027199</td>\n",
       "      <td>0.869005</td>\n",
       "    </tr>\n",
       "    <tr>\n",
       "      <th>23</th>\n",
       "      <td>like_sec_math</td>\n",
       "      <td>0.008209</td>\n",
       "      <td>0.927809</td>\n",
       "    </tr>\n",
       "    <tr>\n",
       "      <th>24</th>\n",
       "      <td>M_edu</td>\n",
       "      <td>0.420378</td>\n",
       "      <td>0.936002</td>\n",
       "    </tr>\n",
       "    <tr>\n",
       "      <th>25</th>\n",
       "      <td>F_edu</td>\n",
       "      <td>0.299251</td>\n",
       "      <td>0.960169</td>\n",
       "    </tr>\n",
       "    <tr>\n",
       "      <th>26</th>\n",
       "      <td>assignments</td>\n",
       "      <td>0.002156</td>\n",
       "      <td>0.962968</td>\n",
       "    </tr>\n",
       "    <tr>\n",
       "      <th>27</th>\n",
       "      <td>alcohol</td>\n",
       "      <td>0.002156</td>\n",
       "      <td>0.962968</td>\n",
       "    </tr>\n",
       "    <tr>\n",
       "      <th>28</th>\n",
       "      <td>scared_RA</td>\n",
       "      <td>0.000338</td>\n",
       "      <td>0.985323</td>\n",
       "    </tr>\n",
       "    <tr>\n",
       "      <th>29</th>\n",
       "      <td>gender</td>\n",
       "      <td>0.000000</td>\n",
       "      <td>1.000000</td>\n",
       "    </tr>\n",
       "    <tr>\n",
       "      <th>30</th>\n",
       "      <td>internet</td>\n",
       "      <td>0.000000</td>\n",
       "      <td>1.000000</td>\n",
       "    </tr>\n",
       "  </tbody>\n",
       "</table>\n",
       "</div>"
      ],
      "text/plain": [
       "                 Variable  X - Statistic   P_value\n",
       "0           understood_RA      17.707120  0.000143\n",
       "1             like_course      10.546725  0.001164\n",
       "2              attendance      15.930485  0.003114\n",
       "3            prerequisite      14.345579  0.006270\n",
       "4             punctuality      11.456535  0.021885\n",
       "5             fam_support       6.591844  0.037034\n",
       "6   romantic_relationship       4.313454  0.037812\n",
       "7                 like_RA       4.080428  0.043383\n",
       "8   highschool_math_grade       7.127077  0.067956\n",
       "9                 applied       1.714238  0.190436\n",
       "10            study_hours       4.634109  0.200635\n",
       "11             to_further       0.897312  0.343503\n",
       "12                  notes       0.841821  0.358877\n",
       "13              Timestamp     131.000000  0.434337\n",
       "14               matricNo     131.000000  0.458905\n",
       "15                 course       0.461787  0.496790\n",
       "16                 higher       0.438978  0.507616\n",
       "17           further_math       0.417450  0.518212\n",
       "18                    job       0.314492  0.574937\n",
       "19                 go_out       2.207560  0.697645\n",
       "20               lecturer       0.070739  0.790264\n",
       "21                  dist        0.303436  0.859230\n",
       "22            orientation       0.027199  0.869005\n",
       "23          like_sec_math       0.008209  0.927809\n",
       "24                  M_edu       0.420378  0.936002\n",
       "25                  F_edu       0.299251  0.960169\n",
       "26            assignments       0.002156  0.962968\n",
       "27                alcohol       0.002156  0.962968\n",
       "28              scared_RA       0.000338  0.985323\n",
       "29                 gender       0.000000  1.000000\n",
       "30               internet       0.000000  1.000000"
      ]
     },
     "execution_count": 20,
     "metadata": {},
     "output_type": "execute_result"
    }
   ],
   "source": [
    "chi2_results.sort_values('P_value', ignore_index = True)"
   ]
  },
  {
   "cell_type": "code",
   "execution_count": 21,
   "id": "4388ca26-c721-4a2b-9a9b-56a4c619c94c",
   "metadata": {},
   "outputs": [],
   "source": [
    "X = dataset[list(significant_cat_cols)+list(significant_num_cols)]\n",
    "y = dataset['pass']"
   ]
  },
  {
   "cell_type": "code",
   "execution_count": 22,
   "id": "0956ba1b-c139-4c5d-8a70-52bcdc55f388",
   "metadata": {},
   "outputs": [
    {
     "data": {
      "text/html": [
       "<div>\n",
       "<style scoped>\n",
       "    .dataframe tbody tr th:only-of-type {\n",
       "        vertical-align: middle;\n",
       "    }\n",
       "\n",
       "    .dataframe tbody tr th {\n",
       "        vertical-align: top;\n",
       "    }\n",
       "\n",
       "    .dataframe thead th {\n",
       "        text-align: right;\n",
       "    }\n",
       "</style>\n",
       "<table border=\"1\" class=\"dataframe\">\n",
       "  <thead>\n",
       "    <tr style=\"text-align: right;\">\n",
       "      <th></th>\n",
       "      <th>romantic_relationship</th>\n",
       "      <th>attendance</th>\n",
       "      <th>punctuality</th>\n",
       "      <th>fam_support</th>\n",
       "      <th>like_course</th>\n",
       "      <th>like_RA</th>\n",
       "      <th>understood_RA</th>\n",
       "      <th>prerequisite</th>\n",
       "      <th>tutorials</th>\n",
       "      <th>age</th>\n",
       "    </tr>\n",
       "  </thead>\n",
       "  <tbody>\n",
       "    <tr>\n",
       "      <th>0</th>\n",
       "      <td>No</td>\n",
       "      <td>2: Between 60% and 69% of the time</td>\n",
       "      <td>5: Always arrived on time</td>\n",
       "      <td>1: Total support (family covers all educationa...</td>\n",
       "      <td>No</td>\n",
       "      <td>Yes</td>\n",
       "      <td>Partially (I understood some parts and crammed...</td>\n",
       "      <td>C</td>\n",
       "      <td>7</td>\n",
       "      <td>21</td>\n",
       "    </tr>\n",
       "    <tr>\n",
       "      <th>1</th>\n",
       "      <td>No</td>\n",
       "      <td>3: Between 50% and 59% of the time</td>\n",
       "      <td>2: Frequently arrived late</td>\n",
       "      <td>2: Partial support (family covers some educati...</td>\n",
       "      <td>No</td>\n",
       "      <td>No</td>\n",
       "      <td>Partially (I understood some parts and crammed...</td>\n",
       "      <td>D</td>\n",
       "      <td>5</td>\n",
       "      <td>24</td>\n",
       "    </tr>\n",
       "    <tr>\n",
       "      <th>3</th>\n",
       "      <td>No</td>\n",
       "      <td>1: More than 70% of the time</td>\n",
       "      <td>4: Usually arrived on time</td>\n",
       "      <td>2: Partial support (family covers some educati...</td>\n",
       "      <td>Yes</td>\n",
       "      <td>Yes</td>\n",
       "      <td>Totally (I understood everything or almost eve...</td>\n",
       "      <td>A</td>\n",
       "      <td>10</td>\n",
       "      <td>26</td>\n",
       "    </tr>\n",
       "    <tr>\n",
       "      <th>4</th>\n",
       "      <td>Yes</td>\n",
       "      <td>1: More than 70% of the time</td>\n",
       "      <td>4: Usually arrived on time</td>\n",
       "      <td>3: No financial support from family</td>\n",
       "      <td>Yes</td>\n",
       "      <td>Yes</td>\n",
       "      <td>Partially (I understood some parts and crammed...</td>\n",
       "      <td>C</td>\n",
       "      <td>5</td>\n",
       "      <td>25</td>\n",
       "    </tr>\n",
       "    <tr>\n",
       "      <th>5</th>\n",
       "      <td>Yes</td>\n",
       "      <td>1: More than 70% of the time</td>\n",
       "      <td>5: Always arrived on time</td>\n",
       "      <td>2: Partial support (family covers some educati...</td>\n",
       "      <td>Yes</td>\n",
       "      <td>Yes</td>\n",
       "      <td>Partially (I understood some parts and crammed...</td>\n",
       "      <td>C</td>\n",
       "      <td>5</td>\n",
       "      <td>22</td>\n",
       "    </tr>\n",
       "  </tbody>\n",
       "</table>\n",
       "</div>"
      ],
      "text/plain": [
       "  romantic_relationship                          attendance  \\\n",
       "0                    No  2: Between 60% and 69% of the time   \n",
       "1                    No  3: Between 50% and 59% of the time   \n",
       "3                    No        1: More than 70% of the time   \n",
       "4                   Yes        1: More than 70% of the time   \n",
       "5                   Yes        1: More than 70% of the time   \n",
       "\n",
       "                  punctuality  \\\n",
       "0   5: Always arrived on time   \n",
       "1  2: Frequently arrived late   \n",
       "3  4: Usually arrived on time   \n",
       "4  4: Usually arrived on time   \n",
       "5   5: Always arrived on time   \n",
       "\n",
       "                                         fam_support like_course like_RA  \\\n",
       "0  1: Total support (family covers all educationa...          No     Yes   \n",
       "1  2: Partial support (family covers some educati...          No      No   \n",
       "3  2: Partial support (family covers some educati...         Yes     Yes   \n",
       "4                3: No financial support from family         Yes     Yes   \n",
       "5  2: Partial support (family covers some educati...         Yes     Yes   \n",
       "\n",
       "                                       understood_RA prerequisite  tutorials  \\\n",
       "0  Partially (I understood some parts and crammed...            C          7   \n",
       "1  Partially (I understood some parts and crammed...            D          5   \n",
       "3  Totally (I understood everything or almost eve...            A         10   \n",
       "4  Partially (I understood some parts and crammed...            C          5   \n",
       "5  Partially (I understood some parts and crammed...            C          5   \n",
       "\n",
       "   age  \n",
       "0   21  \n",
       "1   24  \n",
       "3   26  \n",
       "4   25  \n",
       "5   22  "
      ]
     },
     "execution_count": 22,
     "metadata": {},
     "output_type": "execute_result"
    }
   ],
   "source": [
    "X.head()"
   ]
  },
  {
   "cell_type": "markdown",
   "id": "1873bf7b-b3ce-4095-931f-9e37a1f2cbc8",
   "metadata": {},
   "source": [
    "## *Feature encoding*"
   ]
  },
  {
   "cell_type": "code",
   "execution_count": 23,
   "id": "353f7a64-fe63-4d83-bd52-a134b27508cf",
   "metadata": {},
   "outputs": [
    {
     "name": "stderr",
     "output_type": "stream",
     "text": [
      "C:\\Users\\USER\\AppData\\Local\\Temp\\ipykernel_8024\\541682847.py:1: SettingWithCopyWarning: \n",
      "A value is trying to be set on a copy of a slice from a DataFrame.\n",
      "Try using .loc[row_indexer,col_indexer] = value instead\n",
      "\n",
      "See the caveats in the documentation: https://pandas.pydata.org/pandas-docs/stable/user_guide/indexing.html#returning-a-view-versus-a-copy\n",
      "  X['romantic_relationship'] = X['romantic_relationship'].map({\n",
      "C:\\Users\\USER\\AppData\\Local\\Temp\\ipykernel_8024\\541682847.py:7: SettingWithCopyWarning: \n",
      "A value is trying to be set on a copy of a slice from a DataFrame.\n",
      "Try using .loc[row_indexer,col_indexer] = value instead\n",
      "\n",
      "See the caveats in the documentation: https://pandas.pydata.org/pandas-docs/stable/user_guide/indexing.html#returning-a-view-versus-a-copy\n",
      "  X['like_course'] = X['like_course'].map({\n",
      "C:\\Users\\USER\\AppData\\Local\\Temp\\ipykernel_8024\\541682847.py:12: SettingWithCopyWarning: \n",
      "A value is trying to be set on a copy of a slice from a DataFrame.\n",
      "Try using .loc[row_indexer,col_indexer] = value instead\n",
      "\n",
      "See the caveats in the documentation: https://pandas.pydata.org/pandas-docs/stable/user_guide/indexing.html#returning-a-view-versus-a-copy\n",
      "  X['like_RA'] = X['like_RA'].map({\n"
     ]
    }
   ],
   "source": [
    "X['romantic_relationship'] = X['romantic_relationship'].map({\n",
    "    'Yes': 1,\n",
    "    'No': 0\n",
    "})\n",
    "\n",
    "\n",
    "X['like_course'] = X['like_course'].map({\n",
    "    'Yes': 1,\n",
    "    'No': 0\n",
    "})\n",
    "\n",
    "X['like_RA'] = X['like_RA'].map({\n",
    "    'Yes': 1,\n",
    "    'No': 0\n",
    "})\n"
   ]
  },
  {
   "cell_type": "code",
   "execution_count": 24,
   "id": "255a1dcf-ae68-453c-82be-67d7c67acd5b",
   "metadata": {},
   "outputs": [
    {
     "name": "stderr",
     "output_type": "stream",
     "text": [
      "C:\\Users\\USER\\AppData\\Local\\Temp\\ipykernel_8024\\2937980170.py:1: SettingWithCopyWarning: \n",
      "A value is trying to be set on a copy of a slice from a DataFrame.\n",
      "Try using .loc[row_indexer,col_indexer] = value instead\n",
      "\n",
      "See the caveats in the documentation: https://pandas.pydata.org/pandas-docs/stable/user_guide/indexing.html#returning-a-view-versus-a-copy\n",
      "  X['prerequisite'] = X['prerequisite'].map({\n"
     ]
    }
   ],
   "source": [
    "X['prerequisite'] = X['prerequisite'].map({\n",
    "    'F': 0,\n",
    "    'E': 1,\n",
    "    'D': 2,\n",
    "    'C':3,\n",
    "    'B':4,\n",
    "    'A':5\n",
    "})"
   ]
  },
  {
   "cell_type": "code",
   "execution_count": 25,
   "id": "a2a6e810-f0b9-4bbf-b27c-8e210b2533c0",
   "metadata": {},
   "outputs": [
    {
     "name": "stderr",
     "output_type": "stream",
     "text": [
      "C:\\Users\\USER\\AppData\\Local\\Temp\\ipykernel_8024\\1217328189.py:1: SettingWithCopyWarning: \n",
      "A value is trying to be set on a copy of a slice from a DataFrame.\n",
      "Try using .loc[row_indexer,col_indexer] = value instead\n",
      "\n",
      "See the caveats in the documentation: https://pandas.pydata.org/pandas-docs/stable/user_guide/indexing.html#returning-a-view-versus-a-copy\n",
      "  X['attendance'] = X['attendance'].str[3:].map({\n"
     ]
    }
   ],
   "source": [
    "X['attendance'] = X['attendance'].str[3:].map({\n",
    "    'Between 60% and 69% of the time': 3,\n",
    "    'Between 50% and 59% of the time': 2,\n",
    "    'Between 40% and 49% of the time': 1,\n",
    "    'More than 70% of the time': 4, \n",
    "    'Less than 40% of the time': 0\n",
    "}).astype(int)"
   ]
  },
  {
   "cell_type": "code",
   "execution_count": 26,
   "id": "459f8ff7-bdeb-421d-a65b-a56f7bf308b5",
   "metadata": {},
   "outputs": [
    {
     "name": "stderr",
     "output_type": "stream",
     "text": [
      "C:\\Users\\USER\\AppData\\Local\\Temp\\ipykernel_8024\\1477987669.py:1: SettingWithCopyWarning: \n",
      "A value is trying to be set on a copy of a slice from a DataFrame.\n",
      "Try using .loc[row_indexer,col_indexer] = value instead\n",
      "\n",
      "See the caveats in the documentation: https://pandas.pydata.org/pandas-docs/stable/user_guide/indexing.html#returning-a-view-versus-a-copy\n",
      "  X['punctuality'] = X['punctuality'].str[0].astype(int)-1\n"
     ]
    }
   ],
   "source": [
    "X['punctuality'] = X['punctuality'].str[0].astype(int)-1"
   ]
  },
  {
   "cell_type": "code",
   "execution_count": 27,
   "id": "f5ddefa0-e154-4a88-84da-06254a8f6749",
   "metadata": {},
   "outputs": [
    {
     "name": "stderr",
     "output_type": "stream",
     "text": [
      "C:\\Users\\USER\\AppData\\Local\\Temp\\ipykernel_8024\\855625104.py:1: SettingWithCopyWarning: \n",
      "A value is trying to be set on a copy of a slice from a DataFrame.\n",
      "Try using .loc[row_indexer,col_indexer] = value instead\n",
      "\n",
      "See the caveats in the documentation: https://pandas.pydata.org/pandas-docs/stable/user_guide/indexing.html#returning-a-view-versus-a-copy\n",
      "  X['fam_support'] = X['fam_support'].str[3:].map({\n"
     ]
    }
   ],
   "source": [
    "X['fam_support'] = X['fam_support'].str[3:].map({\n",
    "    'No financial support from family': 0,\n",
    "    'Partial support (family covers some educational expenses)':1,\n",
    "    'Total support (family covers all educational expenses)':2\n",
    "})"
   ]
  },
  {
   "cell_type": "code",
   "execution_count": 28,
   "id": "0b984431-cedb-4be8-81fe-075754e38221",
   "metadata": {},
   "outputs": [
    {
     "name": "stderr",
     "output_type": "stream",
     "text": [
      "C:\\Users\\USER\\AppData\\Local\\Temp\\ipykernel_8024\\2829799167.py:1: SettingWithCopyWarning: \n",
      "A value is trying to be set on a copy of a slice from a DataFrame.\n",
      "Try using .loc[row_indexer,col_indexer] = value instead\n",
      "\n",
      "See the caveats in the documentation: https://pandas.pydata.org/pandas-docs/stable/user_guide/indexing.html#returning-a-view-versus-a-copy\n",
      "  X['understood_RA'] = X['understood_RA'].map({\n"
     ]
    }
   ],
   "source": [
    "X['understood_RA'] = X['understood_RA'].map({\n",
    "    'Partially (I understood some parts and crammed some)': 1,\n",
    "    'No Understanding (I crammed everything)':0,\n",
    "    'Totally (I understood everything or almost everything)':2\n",
    "})"
   ]
  },
  {
   "cell_type": "code",
   "execution_count": 29,
   "id": "3b693b41-a520-4211-adda-a07a5c32e8e8",
   "metadata": {},
   "outputs": [
    {
     "data": {
      "text/html": [
       "<div>\n",
       "<style scoped>\n",
       "    .dataframe tbody tr th:only-of-type {\n",
       "        vertical-align: middle;\n",
       "    }\n",
       "\n",
       "    .dataframe tbody tr th {\n",
       "        vertical-align: top;\n",
       "    }\n",
       "\n",
       "    .dataframe thead th {\n",
       "        text-align: right;\n",
       "    }\n",
       "</style>\n",
       "<table border=\"1\" class=\"dataframe\">\n",
       "  <thead>\n",
       "    <tr style=\"text-align: right;\">\n",
       "      <th></th>\n",
       "      <th>romantic_relationship</th>\n",
       "      <th>attendance</th>\n",
       "      <th>punctuality</th>\n",
       "      <th>fam_support</th>\n",
       "      <th>like_course</th>\n",
       "      <th>like_RA</th>\n",
       "      <th>understood_RA</th>\n",
       "      <th>prerequisite</th>\n",
       "      <th>tutorials</th>\n",
       "      <th>age</th>\n",
       "    </tr>\n",
       "  </thead>\n",
       "  <tbody>\n",
       "    <tr>\n",
       "      <th>0</th>\n",
       "      <td>0</td>\n",
       "      <td>3</td>\n",
       "      <td>4</td>\n",
       "      <td>2</td>\n",
       "      <td>0</td>\n",
       "      <td>1</td>\n",
       "      <td>1</td>\n",
       "      <td>3</td>\n",
       "      <td>7</td>\n",
       "      <td>21</td>\n",
       "    </tr>\n",
       "    <tr>\n",
       "      <th>1</th>\n",
       "      <td>0</td>\n",
       "      <td>2</td>\n",
       "      <td>1</td>\n",
       "      <td>1</td>\n",
       "      <td>0</td>\n",
       "      <td>0</td>\n",
       "      <td>1</td>\n",
       "      <td>2</td>\n",
       "      <td>5</td>\n",
       "      <td>24</td>\n",
       "    </tr>\n",
       "    <tr>\n",
       "      <th>3</th>\n",
       "      <td>0</td>\n",
       "      <td>4</td>\n",
       "      <td>3</td>\n",
       "      <td>1</td>\n",
       "      <td>1</td>\n",
       "      <td>1</td>\n",
       "      <td>2</td>\n",
       "      <td>5</td>\n",
       "      <td>10</td>\n",
       "      <td>26</td>\n",
       "    </tr>\n",
       "    <tr>\n",
       "      <th>4</th>\n",
       "      <td>1</td>\n",
       "      <td>4</td>\n",
       "      <td>3</td>\n",
       "      <td>0</td>\n",
       "      <td>1</td>\n",
       "      <td>1</td>\n",
       "      <td>1</td>\n",
       "      <td>3</td>\n",
       "      <td>5</td>\n",
       "      <td>25</td>\n",
       "    </tr>\n",
       "    <tr>\n",
       "      <th>5</th>\n",
       "      <td>1</td>\n",
       "      <td>4</td>\n",
       "      <td>4</td>\n",
       "      <td>1</td>\n",
       "      <td>1</td>\n",
       "      <td>1</td>\n",
       "      <td>1</td>\n",
       "      <td>3</td>\n",
       "      <td>5</td>\n",
       "      <td>22</td>\n",
       "    </tr>\n",
       "  </tbody>\n",
       "</table>\n",
       "</div>"
      ],
      "text/plain": [
       "   romantic_relationship  attendance  punctuality  fam_support  like_course  \\\n",
       "0                      0           3            4            2            0   \n",
       "1                      0           2            1            1            0   \n",
       "3                      0           4            3            1            1   \n",
       "4                      1           4            3            0            1   \n",
       "5                      1           4            4            1            1   \n",
       "\n",
       "   like_RA  understood_RA  prerequisite  tutorials  age  \n",
       "0        1              1             3          7   21  \n",
       "1        0              1             2          5   24  \n",
       "3        1              2             5         10   26  \n",
       "4        1              1             3          5   25  \n",
       "5        1              1             3          5   22  "
      ]
     },
     "execution_count": 29,
     "metadata": {},
     "output_type": "execute_result"
    }
   ],
   "source": [
    "X.head()"
   ]
  },
  {
   "cell_type": "markdown",
   "id": "1c637447-db1c-4d9d-806e-52830d1b9e60",
   "metadata": {},
   "source": [
    "### *Splitting dataset into Train and Test sets*"
   ]
  },
  {
   "cell_type": "code",
   "execution_count": 30,
   "id": "c58ac1f0-e3f3-438e-8251-e09467545db0",
   "metadata": {},
   "outputs": [],
   "source": [
    "from sklearn.model_selection import train_test_split\n",
    "X_train, X_test, y_train, y_test = train_test_split(X,y, test_size = .2, random_state = 44, stratify = y)"
   ]
  },
  {
   "cell_type": "markdown",
   "id": "8206b23c-88fb-486a-9387-d2267f39f351",
   "metadata": {},
   "source": [
    "### *Scaling numerical columns*"
   ]
  },
  {
   "cell_type": "code",
   "execution_count": 31,
   "id": "86f72423-6139-458d-9fa2-415010cab37a",
   "metadata": {},
   "outputs": [],
   "source": [
    "from sklearn.preprocessing import StandardScaler\n",
    "sc = StandardScaler()\n",
    "X_train[significant_num_cols] = sc.fit_transform(X_train[significant_num_cols])\n",
    "X_test[significant_num_cols] = sc.transform(X_test[significant_num_cols])"
   ]
  },
  {
   "cell_type": "markdown",
   "id": "ada86035-9e54-46c7-9902-b30175aa8c3c",
   "metadata": {},
   "source": [
    "### *Balancing dataset with SMOTE*"
   ]
  },
  {
   "cell_type": "code",
   "execution_count": 32,
   "id": "28786c28-d3e5-46b5-b0a4-044aaad2b168",
   "metadata": {},
   "outputs": [
    {
     "data": {
      "text/plain": [
       "pass\n",
       "1    81\n",
       "0    23\n",
       "Name: count, dtype: int64"
      ]
     },
     "execution_count": 32,
     "metadata": {},
     "output_type": "execute_result"
    }
   ],
   "source": [
    "y_train.value_counts()"
   ]
  },
  {
   "cell_type": "code",
   "execution_count": 33,
   "id": "e57656ca-bd46-4a4c-9fe6-0e32d25a23e6",
   "metadata": {},
   "outputs": [
    {
     "data": {
      "text/plain": [
       "pass\n",
       "1    81\n",
       "0    81\n",
       "Name: count, dtype: int64"
      ]
     },
     "execution_count": 33,
     "metadata": {},
     "output_type": "execute_result"
    }
   ],
   "source": [
    "from imblearn.over_sampling import SMOTE\n",
    "smote = SMOTE(random_state = 42)\n",
    "X_train_resampled, y_train_resampled = smote.fit_resample(X_train,y_train)\n",
    "y_train_resampled.value_counts()"
   ]
  },
  {
   "cell_type": "markdown",
   "id": "4b1325f0-9a6b-4672-9886-b0332de188c2",
   "metadata": {},
   "source": [
    "## **Modelling**"
   ]
  },
  {
   "cell_type": "code",
   "execution_count": 37,
   "id": "6f8e6bd5-74bc-44a6-9606-981caeb1bea4",
   "metadata": {},
   "outputs": [],
   "source": [
    "# Modelling\n",
    "from sklearn.neighbors import KNeighborsClassifier\n",
    "from sklearn.linear_model import LogisticRegression\n",
    "from sklearn.tree import DecisionTreeClassifier\n",
    "from sklearn.ensemble import RandomForestClassifier\n",
    "from sklearn.svm import SVC\n",
    "from sklearn.ensemble import GradientBoostingClassifier\n",
    "#import xgboost as xgb\n",
    "from sklearn.metrics import accuracy_score as acc\n",
    "\n",
    "models = {\n",
    "    'Logistic regression': LogisticRegression(),\n",
    "    'KNN': KNeighborsClassifier(),\n",
    "    'Decision Tree' : DecisionTreeClassifier(random_state = 42),\n",
    "    'Random Forest' : RandomForestClassifier(random_state = 42),\n",
    "    'SVC' : SVC(random_state = 42),\n",
    "    'Gradient Boosting': GradientBoostingClassifier(random_state = 43),\n",
    "    #'XGBoost' : xgb.XGBClassifier()\n",
    "}"
   ]
  },
  {
   "cell_type": "markdown",
   "id": "f4a70bed-8609-44ad-9134-c2e6ee5f40eb",
   "metadata": {},
   "source": [
    "### **Accuracy on Training Set**"
   ]
  },
  {
   "cell_type": "code",
   "execution_count": 38,
   "id": "cd86fb5a-aadd-43f5-ac3b-b93215bb77ae",
   "metadata": {},
   "outputs": [
    {
     "data": {
      "text/html": [
       "<div>\n",
       "<style scoped>\n",
       "    .dataframe tbody tr th:only-of-type {\n",
       "        vertical-align: middle;\n",
       "    }\n",
       "\n",
       "    .dataframe tbody tr th {\n",
       "        vertical-align: top;\n",
       "    }\n",
       "\n",
       "    .dataframe thead th {\n",
       "        text-align: right;\n",
       "    }\n",
       "</style>\n",
       "<table border=\"1\" class=\"dataframe\">\n",
       "  <thead>\n",
       "    <tr style=\"text-align: right;\">\n",
       "      <th></th>\n",
       "      <th>Model</th>\n",
       "      <th>Score (%)</th>\n",
       "    </tr>\n",
       "  </thead>\n",
       "  <tbody>\n",
       "    <tr>\n",
       "      <th>0</th>\n",
       "      <td>Decision Tree</td>\n",
       "      <td>100.0</td>\n",
       "    </tr>\n",
       "    <tr>\n",
       "      <th>1</th>\n",
       "      <td>Random Forest</td>\n",
       "      <td>100.0</td>\n",
       "    </tr>\n",
       "    <tr>\n",
       "      <th>2</th>\n",
       "      <td>Gradient Boosting</td>\n",
       "      <td>99.0</td>\n",
       "    </tr>\n",
       "    <tr>\n",
       "      <th>3</th>\n",
       "      <td>SVC</td>\n",
       "      <td>86.0</td>\n",
       "    </tr>\n",
       "    <tr>\n",
       "      <th>4</th>\n",
       "      <td>Logistic regression</td>\n",
       "      <td>83.0</td>\n",
       "    </tr>\n",
       "    <tr>\n",
       "      <th>5</th>\n",
       "      <td>KNN</td>\n",
       "      <td>78.0</td>\n",
       "    </tr>\n",
       "  </tbody>\n",
       "</table>\n",
       "</div>"
      ],
      "text/plain": [
       "                 Model  Score (%)\n",
       "0        Decision Tree      100.0\n",
       "1        Random Forest      100.0\n",
       "2    Gradient Boosting       99.0\n",
       "3                  SVC       86.0\n",
       "4  Logistic regression       83.0\n",
       "5                  KNN       78.0"
      ]
     },
     "metadata": {},
     "output_type": "display_data"
    }
   ],
   "source": [
    "scores = []\n",
    "\n",
    "for model in models.values():\n",
    "    model.fit(X_train_resampled, y_train_resampled)  \n",
    "    y_pred = model.predict(X_train)\n",
    "    score = acc(y_train, y_pred)*100\n",
    "    scores.append(score)\n",
    "\n",
    "results = pd.DataFrame({\n",
    "    'Model': models.keys(),\n",
    "    'Score (%)': np.round(scores)})\\\n",
    "    .sort_values('Score (%)', ascending = False, ignore_index = True)\n",
    "\n",
    "display(results)"
   ]
  },
  {
   "cell_type": "markdown",
   "id": "8aa0c341-b67d-4157-a9f5-1313761d0f11",
   "metadata": {},
   "source": [
    "### **Accuracy on Test Set**"
   ]
  },
  {
   "cell_type": "code",
   "execution_count": 39,
   "id": "1ace652d-da7a-4991-bf8a-79a1542c2589",
   "metadata": {},
   "outputs": [
    {
     "data": {
      "text/html": [
       "<div>\n",
       "<style scoped>\n",
       "    .dataframe tbody tr th:only-of-type {\n",
       "        vertical-align: middle;\n",
       "    }\n",
       "\n",
       "    .dataframe tbody tr th {\n",
       "        vertical-align: top;\n",
       "    }\n",
       "\n",
       "    .dataframe thead th {\n",
       "        text-align: right;\n",
       "    }\n",
       "</style>\n",
       "<table border=\"1\" class=\"dataframe\">\n",
       "  <thead>\n",
       "    <tr style=\"text-align: right;\">\n",
       "      <th></th>\n",
       "      <th>Model</th>\n",
       "      <th>Score (%)</th>\n",
       "    </tr>\n",
       "  </thead>\n",
       "  <tbody>\n",
       "    <tr>\n",
       "      <th>0</th>\n",
       "      <td>Random Forest</td>\n",
       "      <td>96.0</td>\n",
       "    </tr>\n",
       "    <tr>\n",
       "      <th>1</th>\n",
       "      <td>Logistic regression</td>\n",
       "      <td>89.0</td>\n",
       "    </tr>\n",
       "    <tr>\n",
       "      <th>2</th>\n",
       "      <td>SVC</td>\n",
       "      <td>89.0</td>\n",
       "    </tr>\n",
       "    <tr>\n",
       "      <th>3</th>\n",
       "      <td>KNN</td>\n",
       "      <td>85.0</td>\n",
       "    </tr>\n",
       "    <tr>\n",
       "      <th>4</th>\n",
       "      <td>Decision Tree</td>\n",
       "      <td>81.0</td>\n",
       "    </tr>\n",
       "    <tr>\n",
       "      <th>5</th>\n",
       "      <td>Gradient Boosting</td>\n",
       "      <td>81.0</td>\n",
       "    </tr>\n",
       "  </tbody>\n",
       "</table>\n",
       "</div>"
      ],
      "text/plain": [
       "                 Model  Score (%)\n",
       "0        Random Forest       96.0\n",
       "1  Logistic regression       89.0\n",
       "2                  SVC       89.0\n",
       "3                  KNN       85.0\n",
       "4        Decision Tree       81.0\n",
       "5    Gradient Boosting       81.0"
      ]
     },
     "metadata": {},
     "output_type": "display_data"
    }
   ],
   "source": [
    "scores = []\n",
    "\n",
    "for model in models.values():\n",
    "    y_pred = model.predict(X_test)\n",
    "    score = acc(y_test, y_pred)*100\n",
    "    scores.append(score)\n",
    "\n",
    "results = pd.DataFrame({\n",
    "    'Model': models.keys(),\n",
    "    'Score (%)': np.round(scores)})\\\n",
    "    .sort_values('Score (%)', ascending = False, ignore_index = True)\n",
    "\n",
    "display(results)"
   ]
  },
  {
   "cell_type": "code",
   "execution_count": 40,
   "id": "3dbbfdfb-b86c-468e-aa8c-1106de071240",
   "metadata": {},
   "outputs": [
    {
     "data": {
      "text/plain": [
       "dict_keys(['Logistic regression', 'KNN', 'Decision Tree', 'Random Forest', 'SVC', 'Gradient Boosting'])"
      ]
     },
     "execution_count": 40,
     "metadata": {},
     "output_type": "execute_result"
    }
   ],
   "source": [
    "models.keys()"
   ]
  },
  {
   "cell_type": "code",
   "execution_count": 41,
   "id": "870b5e1e-8448-4891-8e7c-fc66df88e6a1",
   "metadata": {},
   "outputs": [
    {
     "data": {
      "image/png": "[encoded data removed]",
      "text/plain": [
       "<Figure size 1200x600 with 1 Axes>"
      ]
     },
     "metadata": {},
     "output_type": "display_data"
    }
   ],
   "source": [
    "plt.figure(figsize = (12,6))\n",
    "sns.barplot(results, y = 'Model', x = 'Score (%)')\n",
    "plt.title('Comparative Analysis of Models Accuracies', fontdict = {'fontweight':'bold', 'fontsize':15})\n",
    "plt.xlabel('Score (%)', fontdict = {'fontweight':'bold', 'fontsize':12})\n",
    "plt.ylabel('Models', fontdict = {'fontweight':'bold', 'fontsize':12})\n",
    "plt.show()"
   ]
  },
  {
   "cell_type": "markdown",
   "id": "709dc737-faa1-4b07-8726-5b33e580ba6e",
   "metadata": {},
   "source": [
    "### **Selecting Best Model**"
   ]
  },
  {
   "cell_type": "markdown",
   "id": "47e318d8-2382-49bd-8734-7ee1c546bc9a",
   "metadata": {},
   "source": [
    "#### *The Random Forest Classifier has the highest accuracy of 96% and so we select it* "
   ]
  },
  {
   "cell_type": "code",
   "execution_count": 42,
   "id": "4a021806-53ad-4541-bbf9-c79022d87922",
   "metadata": {},
   "outputs": [
    {
     "data": {
      "text/plain": [
       "<Axes: >"
      ]
     },
     "execution_count": 42,
     "metadata": {},
     "output_type": "execute_result"
    },
    {
     "data": {
      "image/png": "[encoded data removed]",
      "text/plain": [
       "<Figure size 640x480 with 2 Axes>"
      ]
     },
     "metadata": {},
     "output_type": "display_data"
    }
   ],
   "source": [
    "from sklearn.metrics import confusion_matrix\n",
    "\n",
    "model = RandomForestClassifier(random_state = 42)\n",
    "model.fit(X_train_resampled, y_train_resampled)  \n",
    "y_pred = model.predict(X_test)\n",
    "mat = confusion_matrix(y_test, y_pred)\n",
    "sns.heatmap(mat, annot = True)"
   ]
  },
  {
   "cell_type": "markdown",
   "id": "ac2ec05d-bc6d-4531-b076-1e9f845606ae",
   "metadata": {},
   "source": [
    "### **Feature importances**"
   ]
  },
  {
   "cell_type": "code",
   "execution_count": 43,
   "id": "4a0c8e2c-8bd5-4735-863a-088e9fd9dfdd",
   "metadata": {},
   "outputs": [
    {
     "data": {
      "text/html": [
       "<div>\n",
       "<style scoped>\n",
       "    .dataframe tbody tr th:only-of-type {\n",
       "        vertical-align: middle;\n",
       "    }\n",
       "\n",
       "    .dataframe tbody tr th {\n",
       "        vertical-align: top;\n",
       "    }\n",
       "\n",
       "    .dataframe thead th {\n",
       "        text-align: right;\n",
       "    }\n",
       "</style>\n",
       "<table border=\"1\" class=\"dataframe\">\n",
       "  <thead>\n",
       "    <tr style=\"text-align: right;\">\n",
       "      <th></th>\n",
       "      <th>Features</th>\n",
       "      <th>Importance</th>\n",
       "    </tr>\n",
       "  </thead>\n",
       "  <tbody>\n",
       "    <tr>\n",
       "      <th>7</th>\n",
       "      <td>prerequisite</td>\n",
       "      <td>0.191260</td>\n",
       "    </tr>\n",
       "    <tr>\n",
       "      <th>8</th>\n",
       "      <td>tutorials</td>\n",
       "      <td>0.162901</td>\n",
       "    </tr>\n",
       "    <tr>\n",
       "      <th>9</th>\n",
       "      <td>age</td>\n",
       "      <td>0.126515</td>\n",
       "    </tr>\n",
       "    <tr>\n",
       "      <th>4</th>\n",
       "      <td>like_course</td>\n",
       "      <td>0.119176</td>\n",
       "    </tr>\n",
       "    <tr>\n",
       "      <th>1</th>\n",
       "      <td>attendance</td>\n",
       "      <td>0.100082</td>\n",
       "    </tr>\n",
       "    <tr>\n",
       "      <th>6</th>\n",
       "      <td>understood_RA</td>\n",
       "      <td>0.090355</td>\n",
       "    </tr>\n",
       "    <tr>\n",
       "      <th>3</th>\n",
       "      <td>fam_support</td>\n",
       "      <td>0.072711</td>\n",
       "    </tr>\n",
       "    <tr>\n",
       "      <th>0</th>\n",
       "      <td>romantic_relationship</td>\n",
       "      <td>0.060342</td>\n",
       "    </tr>\n",
       "    <tr>\n",
       "      <th>2</th>\n",
       "      <td>punctuality</td>\n",
       "      <td>0.042648</td>\n",
       "    </tr>\n",
       "    <tr>\n",
       "      <th>5</th>\n",
       "      <td>like_RA</td>\n",
       "      <td>0.034010</td>\n",
       "    </tr>\n",
       "  </tbody>\n",
       "</table>\n",
       "</div>"
      ],
      "text/plain": [
       "                Features  Importance\n",
       "7           prerequisite    0.191260\n",
       "8              tutorials    0.162901\n",
       "9                    age    0.126515\n",
       "4            like_course    0.119176\n",
       "1             attendance    0.100082\n",
       "6          understood_RA    0.090355\n",
       "3            fam_support    0.072711\n",
       "0  romantic_relationship    0.060342\n",
       "2            punctuality    0.042648\n",
       "5                like_RA    0.034010"
      ]
     },
     "execution_count": 43,
     "metadata": {},
     "output_type": "execute_result"
    }
   ],
   "source": [
    "model = RandomForestClassifier(random_state = 42)\n",
    "model.fit(X_train_resampled, y_train_resampled)  \n",
    "\n",
    "feature_importances = pd.DataFrame({\n",
    "    'Features' : X.columns, \n",
    "    'Importance' : model.feature_importances_})\n",
    "feature_importances.sort_values('Importance', ascending = False)"
   ]
  },
  {
   "cell_type": "code",
   "execution_count": 44,
   "id": "77383b38-215e-40a0-b779-82c4a1b91651",
   "metadata": {},
   "outputs": [
    {
     "data": {
      "image/png": "[encoded data removed]",
      "text/plain": [
       "<Figure size 1200x600 with 1 Axes>"
      ]
     },
     "metadata": {},
     "output_type": "display_data"
    }
   ],
   "source": [
    "plt.figure(figsize = (12,6))\n",
    "sns.barplot(data = feature_importances.sort_values('Importance', ascending = False), y = 'Features', x = 'Importance')\n",
    "plt.title('Distribution of Feature Importances', fontdict = {'fontweight':'bold', 'fontsize':18})\n",
    "plt.ylabel('Features', fontdict = {'fontweight':'bold', 'fontsize':12})\n",
    "plt.xlabel('Importances/Weights', fontdict = {'fontweight':'bold', 'fontsize':12})\n",
    "plt.show()"
   ]
  },
  {
   "cell_type": "markdown",
   "id": "60261998-ca5b-4dfd-9786-a40fdd027027",
   "metadata": {},
   "source": [
    "## **Model Tree Visualization**"
   ]
  },
  {
   "cell_type": "code",
   "execution_count": 45,
   "id": "7b884ed4-ec77-4a3a-a081-57ed39be7c99",
   "metadata": {},
   "outputs": [
    {
     "ename": "ModuleNotFoundError",
     "evalue": "No module named 'graphviz'",
     "output_type": "error",
     "traceback": [
      "\u001b[1;31m---------------------------------------------------------------------------\u001b[0m",
      "\u001b[1;31mModuleNotFoundError\u001b[0m                       Traceback (most recent call last)",
      "Cell \u001b[1;32mIn[45], line 2\u001b[0m\n\u001b[0;32m      1\u001b[0m \u001b[38;5;28;01mfrom\u001b[39;00m \u001b[38;5;21;01msklearn\u001b[39;00m\u001b[38;5;21;01m.\u001b[39;00m\u001b[38;5;21;01mtree\u001b[39;00m \u001b[38;5;28;01mimport\u001b[39;00m export_graphviz\n\u001b[1;32m----> 2\u001b[0m \u001b[38;5;28;01mimport\u001b[39;00m \u001b[38;5;21;01mgraphviz\u001b[39;00m\n\u001b[0;32m      4\u001b[0m tree \u001b[38;5;241m=\u001b[39m model\u001b[38;5;241m.\u001b[39mestimators_[\u001b[38;5;241m0\u001b[39m]\n\u001b[0;32m      6\u001b[0m dot_data \u001b[38;5;241m=\u001b[39m export_graphviz(tree, out_file\u001b[38;5;241m=\u001b[39m\u001b[38;5;28;01mNone\u001b[39;00m, \n\u001b[0;32m      7\u001b[0m                            feature_names\u001b[38;5;241m=\u001b[39mX_train\u001b[38;5;241m.\u001b[39mcolumns, \n\u001b[0;32m      8\u001b[0m                            class_names\u001b[38;5;241m=\u001b[39my_train\u001b[38;5;241m.\u001b[39mastype(\u001b[38;5;124m'\u001b[39m\u001b[38;5;124mstr\u001b[39m\u001b[38;5;124m'\u001b[39m)\u001b[38;5;241m.\u001b[39munique(), \n\u001b[0;32m      9\u001b[0m                            filled\u001b[38;5;241m=\u001b[39m\u001b[38;5;28;01mTrue\u001b[39;00m)\n",
      "\u001b[1;31mModuleNotFoundError\u001b[0m: No module named 'graphviz'"
     ]
    }
   ],
   "source": [
    "from sklearn.tree import export_graphviz\n",
    "import graphviz\n",
    "\n",
    "tree = model.estimators_[0]\n",
    "\n",
    "dot_data = export_graphviz(tree, out_file=None, \n",
    "                           feature_names=X_train.columns, \n",
    "                           class_names=y_train.astype('str').unique(), \n",
    "                           filled=True)\n",
    "\n",
    "# Render the Graphviz graph\n",
    "graph = graphviz.Source(dot_data)  \n",
    "graph.render(\"random_forest_tree\")\n",
    "graphviz.Source(dot_data)"
   ]
  },
  {
   "cell_type": "markdown",
   "id": "2892bd5c-ec92-4c90-ba2f-31cab58d4dba",
   "metadata": {},
   "source": [
    "## Model Deployment"
   ]
  },
  {
   "cell_type": "code",
   "execution_count": 46,
   "id": "f15b0295-4ff9-4e56-9b15-0ba5e4a78928",
   "metadata": {},
   "outputs": [],
   "source": [
    "import pickle\n",
    "\n",
    "file = open('model.pkl', 'wb')\n",
    "pickle.dump(model, file)\n",
    "file.close()"
   ]
  },
  {
   "cell_type": "code",
   "execution_count": 17,
   "id": "c2b68f04-8755-4e4e-9322-50ee4c2dcdd7",
   "metadata": {},
   "outputs": [
    {
     "data": {
      "text/plain": [
       "[10000, 1, 2, 5]"
      ]
     },
     "execution_count": 17,
     "metadata": {},
     "output_type": "execute_result"
    }
   ],
   "source": [
    "lst = [10000, '1ajd', '2AKJKJ', 5]\n",
    "\n",
    "for i in range(len(lst)):\n",
    "    try:\n",
    "        lst[i] = int(lst[i][0])\n",
    "    except:\n",
    "        pass\n",
    "\n",
    "lst\n",
    "    "
   ]
  },
  {
   "cell_type": "code",
   "execution_count": 16,
   "id": "c62ad12c-8109-4f4d-a9b3-aa2a833a42e2",
   "metadata": {},
   "outputs": [
    {
     "data": {
      "text/plain": [
       "10000"
      ]
     },
     "execution_count": 16,
     "metadata": {},
     "output_type": "execute_result"
    }
   ],
   "source": [
    "for i in "
   ]
  },
  {
   "cell_type": "code",
   "execution_count": 3,
   "id": "85fa1753-711a-4513-8b1c-6c2ad12cef5e",
   "metadata": {},
   "outputs": [
    {
     "data": {
      "text/plain": [
       "\u001b[1;31mSignature:\u001b[0m\n",
       "\u001b[0mst\u001b[0m\u001b[1;33m.\u001b[0m\u001b[0mselectbox\u001b[0m\u001b[1;33m(\u001b[0m\u001b[1;33m\n",
       "\u001b[0m    \u001b[0mlabel\u001b[0m\u001b[1;33m:\u001b[0m \u001b[1;34m'str'\u001b[0m\u001b[1;33m,\u001b[0m\u001b[1;33m\n",
       "\u001b[0m    \u001b[0moptions\u001b[0m\u001b[1;33m:\u001b[0m \u001b[1;34m'OptionSequence[T]'\u001b[0m\u001b[1;33m,\u001b[0m\u001b[1;33m\n",
       "\u001b[0m    \u001b[0mindex\u001b[0m\u001b[1;33m:\u001b[0m \u001b[1;34m'int | None'\u001b[0m \u001b[1;33m=\u001b[0m \u001b[1;36m0\u001b[0m\u001b[1;33m,\u001b[0m\u001b[1;33m\n",
       "\u001b[0m    \u001b[0mformat_func\u001b[0m\u001b[1;33m:\u001b[0m \u001b[1;34m'Callable[[Any], Any]'\u001b[0m \u001b[1;33m=\u001b[0m \u001b[1;33m<\u001b[0m\u001b[1;32mclass\u001b[0m \u001b[1;34m'str'\u001b[0m\u001b[1;33m>\u001b[0m\u001b[1;33m,\u001b[0m\u001b[1;33m\n",
       "\u001b[0m    \u001b[0mkey\u001b[0m\u001b[1;33m:\u001b[0m \u001b[1;34m'Key | None'\u001b[0m \u001b[1;33m=\u001b[0m \u001b[1;32mNone\u001b[0m\u001b[1;33m,\u001b[0m\u001b[1;33m\n",
       "\u001b[0m    \u001b[0mhelp\u001b[0m\u001b[1;33m:\u001b[0m \u001b[1;34m'str | None'\u001b[0m \u001b[1;33m=\u001b[0m \u001b[1;32mNone\u001b[0m\u001b[1;33m,\u001b[0m\u001b[1;33m\n",
       "\u001b[0m    \u001b[0mon_change\u001b[0m\u001b[1;33m:\u001b[0m \u001b[1;34m'WidgetCallback | None'\u001b[0m \u001b[1;33m=\u001b[0m \u001b[1;32mNone\u001b[0m\u001b[1;33m,\u001b[0m\u001b[1;33m\n",
       "\u001b[0m    \u001b[0margs\u001b[0m\u001b[1;33m:\u001b[0m \u001b[1;34m'WidgetArgs | None'\u001b[0m \u001b[1;33m=\u001b[0m \u001b[1;32mNone\u001b[0m\u001b[1;33m,\u001b[0m\u001b[1;33m\n",
       "\u001b[0m    \u001b[0mkwargs\u001b[0m\u001b[1;33m:\u001b[0m \u001b[1;34m'WidgetKwargs | None'\u001b[0m \u001b[1;33m=\u001b[0m \u001b[1;32mNone\u001b[0m\u001b[1;33m,\u001b[0m\u001b[1;33m\n",
       "\u001b[0m    \u001b[1;33m*\u001b[0m\u001b[1;33m,\u001b[0m\u001b[1;33m\n",
       "\u001b[0m    \u001b[0mplaceholder\u001b[0m\u001b[1;33m:\u001b[0m \u001b[1;34m'str'\u001b[0m \u001b[1;33m=\u001b[0m \u001b[1;34m'Choose an option'\u001b[0m\u001b[1;33m,\u001b[0m\u001b[1;33m\n",
       "\u001b[0m    \u001b[0mdisabled\u001b[0m\u001b[1;33m:\u001b[0m \u001b[1;34m'bool'\u001b[0m \u001b[1;33m=\u001b[0m \u001b[1;32mFalse\u001b[0m\u001b[1;33m,\u001b[0m\u001b[1;33m\n",
       "\u001b[0m    \u001b[0mlabel_visibility\u001b[0m\u001b[1;33m:\u001b[0m \u001b[1;34m'LabelVisibility'\u001b[0m \u001b[1;33m=\u001b[0m \u001b[1;34m'visible'\u001b[0m\u001b[1;33m,\u001b[0m\u001b[1;33m\n",
       "\u001b[0m\u001b[1;33m)\u001b[0m \u001b[1;33m->\u001b[0m \u001b[1;34m'T | None'\u001b[0m\u001b[1;33m\u001b[0m\u001b[1;33m\u001b[0m\u001b[0m\n",
       "\u001b[1;31mDocstring:\u001b[0m\n",
       "Display a select widget.\n",
       "\n",
       "Parameters\n",
       "----------\n",
       "label : str\n",
       "    A short label explaining to the user what this select widget is for.\n",
       "    The label can optionally contain GitHub-flavored Markdown of the\n",
       "    following types: Bold, Italics, Strikethroughs, Inline Code, Links,\n",
       "    and Images. Images display like icons, with a max height equal to\n",
       "    the font height.\n",
       "\n",
       "    Unsupported Markdown elements are unwrapped so only their children\n",
       "    (text contents) render. Display unsupported elements as literal\n",
       "    characters by backslash-escaping them. E.g.,\n",
       "    ``\"1\\. Not an ordered list\"``.\n",
       "\n",
       "    See the ``body`` parameter of |st.markdown|_ for additional,\n",
       "    supported Markdown directives.\n",
       "\n",
       "    For accessibility reasons, you should never set an empty label, but\n",
       "    you can hide it with ``label_visibility`` if needed. In the future,\n",
       "    we may disallow empty labels by raising an exception.\n",
       "\n",
       "    .. |st.markdown| replace:: ``st.markdown``\n",
       "    .. _st.markdown: https://docs.streamlit.io/develop/api-reference/text/st.markdown\n",
       "\n",
       "options : Iterable\n",
       "    Labels for the select options in an ``Iterable``. This can be a\n",
       "    ``list``, ``set``, or anything supported by ``st.dataframe``. If\n",
       "    ``options`` is dataframe-like, the first column will be used. Each\n",
       "    label will be cast to ``str`` internally by default.\n",
       "\n",
       "index : int\n",
       "    The index of the preselected option on first render. If ``None``,\n",
       "    will initialize empty and return ``None`` until the user selects an option.\n",
       "    Defaults to 0 (the first option).\n",
       "\n",
       "format_func : function\n",
       "    Function to modify the display of the options. It receives\n",
       "    the raw option as an argument and should output the label to be\n",
       "    shown for that option. This has no impact on the return value of\n",
       "    the command.\n",
       "\n",
       "key : str or int\n",
       "    An optional string or integer to use as the unique key for the widget.\n",
       "    If this is omitted, a key will be generated for the widget\n",
       "    based on its content. No two widgets may have the same key.\n",
       "\n",
       "help : str\n",
       "    An optional tooltip that gets displayed next to the widget label.\n",
       "    Streamlit only displays the tooltip when\n",
       "    ``label_visibility=\"visible\"``.\n",
       "\n",
       "on_change : callable\n",
       "    An optional callback invoked when this selectbox's value changes.\n",
       "\n",
       "args : tuple\n",
       "    An optional tuple of args to pass to the callback.\n",
       "\n",
       "kwargs : dict\n",
       "    An optional dict of kwargs to pass to the callback.\n",
       "\n",
       "placeholder : str\n",
       "    A string to display when no options are selected.\n",
       "    Defaults to \"Choose an option\".\n",
       "\n",
       "disabled : bool\n",
       "    An optional boolean that disables the selectbox if set to ``True``.\n",
       "    The default is ``False``.\n",
       "\n",
       "label_visibility : \"visible\", \"hidden\", or \"collapsed\"\n",
       "    The visibility of the label. The default is ``\"visible\"``. If this\n",
       "    is ``\"hidden\"``, Streamlit displays an empty spacer instead of the\n",
       "    label, which can help keep the widget alligned with other widgets.\n",
       "    If this is ``\"collapsed\"``, Streamlit displays no label or spacer.\n",
       "\n",
       "Returns\n",
       "-------\n",
       "any\n",
       "    The selected option or ``None`` if no option is selected.\n",
       "\n",
       "Example\n",
       "-------\n",
       ">>> import streamlit as st\n",
       ">>>\n",
       ">>> option = st.selectbox(\n",
       "...     \"How would you like to be contacted?\",\n",
       "...     (\"Email\", \"Home phone\", \"Mobile phone\"),\n",
       "... )\n",
       ">>>\n",
       ">>> st.write(\"You selected:\", option)\n",
       "\n",
       ".. output::\n",
       "   https://doc-selectbox.streamlit.app/\n",
       "   height: 320px\n",
       "\n",
       "To initialize an empty selectbox, use ``None`` as the index value:\n",
       "\n",
       ">>> import streamlit as st\n",
       ">>>\n",
       ">>> option = st.selectbox(\n",
       "...     \"How would you like to be contacted?\",\n",
       "...     (\"Email\", \"Home phone\", \"Mobile phone\"),\n",
       "...     index=None,\n",
       "...     placeholder=\"Select contact method...\",\n",
       "... )\n",
       ">>>\n",
       ">>> st.write(\"You selected:\", option)\n",
       "\n",
       ".. output::\n",
       "   https://doc-selectbox-empty.streamlit.app/\n",
       "   height: 320px\n",
       "\u001b[1;31mFile:\u001b[0m      c:\\users\\user\\appdata\\local\\programs\\python\\python313\\lib\\site-packages\\streamlit\\elements\\widgets\\selectbox.py\n",
       "\u001b[1;31mType:\u001b[0m      method"
      ]
     },
     "metadata": {},
     "output_type": "display_data"
    }
   ],
   "source": [
    "import streamlit as st \n",
    "st.selectbox?"
   ]
  },
  {
   "cell_type": "code",
   "execution_count": 18,
   "id": "fc08eaba-8bea-49ef-b60b-dfe51e564340",
   "metadata": {},
   "outputs": [
    {
     "data": {
      "text/plain": [
       "['0. No', '1. Yes']"
      ]
     },
     "execution_count": 18,
     "metadata": {},
     "output_type": "execute_result"
    }
   ],
   "source": [
    "sorted(['0. No', '1. Yes'])"
   ]
  }
 ],
 "metadata": {
  "colab": {
   "name": "Welcome to DataCamp Workspaces.ipynb",
   "provenance": []
  },
  "kaggle": {
   "accelerator": "none",
   "dataSources": [
    {
     "datasetId": 6077806,
     "sourceId": 9895207,
     "sourceType": "datasetVersion"
    }
   ],
   "dockerImageVersionId": 30786,
   "isGpuEnabled": false,
   "isInternetEnabled": false,
   "language": "python",
   "sourceType": "notebook"
  },
  "kernelspec": {
   "display_name": "Python 3 (ipykernel)",
   "language": "python",
   "name": "python3"
  },
  "language_info": {
   "codemirror_mode": {
    "name": "ipython",
    "version": 3
   },
   "file_extension": ".py",
   "mimetype": "text/x-python",
   "name": "python",
   "nbconvert_exporter": "python",
   "pygments_lexer": "ipython3",
   "version": "3.13.0"
  }
 },
 "nbformat": 4,
 "nbformat_minor": 5
}
